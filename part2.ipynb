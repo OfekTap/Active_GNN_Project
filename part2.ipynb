{
  "cells": [
    {
      "cell_type": "code",
      "execution_count": null,
      "metadata": {
        "id": "8qnsS6NVIUuh",
        "colab": {
          "base_uri": "https://localhost:8080/"
        },
        "outputId": "8ad7172b-45aa-483b-d23e-b92cc45c9dd6"
      },
      "outputs": [
        {
          "output_type": "stream",
          "name": "stdout",
          "text": [
            "Collecting torch_geometric\n",
            "  Downloading torch_geometric-2.6.1-py3-none-any.whl.metadata (63 kB)\n",
            "\u001b[?25l     \u001b[90m━━━━━━━━━━━━━━━━━━━━━━━━━━━━━━━━━━━━━━━━\u001b[0m \u001b[32m0.0/63.1 kB\u001b[0m \u001b[31m?\u001b[0m eta \u001b[36m-:--:--\u001b[0m\r\u001b[2K     \u001b[90m━━━━━━━━━━━━━━━━━━━━━━━━━━━━━━━━━━━━━━━━\u001b[0m \u001b[32m63.1/63.1 kB\u001b[0m \u001b[31m3.0 MB/s\u001b[0m eta \u001b[36m0:00:00\u001b[0m\n",
            "\u001b[?25hRequirement already satisfied: aiohttp in /usr/local/lib/python3.10/dist-packages (from torch_geometric) (3.10.10)\n",
            "Requirement already satisfied: fsspec in /usr/local/lib/python3.10/dist-packages (from torch_geometric) (2024.10.0)\n",
            "Requirement already satisfied: jinja2 in /usr/local/lib/python3.10/dist-packages (from torch_geometric) (3.1.4)\n",
            "Requirement already satisfied: numpy in /usr/local/lib/python3.10/dist-packages (from torch_geometric) (1.26.4)\n",
            "Requirement already satisfied: psutil>=5.8.0 in /usr/local/lib/python3.10/dist-packages (from torch_geometric) (5.9.5)\n",
            "Requirement already satisfied: pyparsing in /usr/local/lib/python3.10/dist-packages (from torch_geometric) (3.2.0)\n",
            "Requirement already satisfied: requests in /usr/local/lib/python3.10/dist-packages (from torch_geometric) (2.32.3)\n",
            "Requirement already satisfied: tqdm in /usr/local/lib/python3.10/dist-packages (from torch_geometric) (4.66.6)\n",
            "Requirement already satisfied: aiohappyeyeballs>=2.3.0 in /usr/local/lib/python3.10/dist-packages (from aiohttp->torch_geometric) (2.4.3)\n",
            "Requirement already satisfied: aiosignal>=1.1.2 in /usr/local/lib/python3.10/dist-packages (from aiohttp->torch_geometric) (1.3.1)\n",
            "Requirement already satisfied: attrs>=17.3.0 in /usr/local/lib/python3.10/dist-packages (from aiohttp->torch_geometric) (24.2.0)\n",
            "Requirement already satisfied: frozenlist>=1.1.1 in /usr/local/lib/python3.10/dist-packages (from aiohttp->torch_geometric) (1.5.0)\n",
            "Requirement already satisfied: multidict<7.0,>=4.5 in /usr/local/lib/python3.10/dist-packages (from aiohttp->torch_geometric) (6.1.0)\n",
            "Requirement already satisfied: yarl<2.0,>=1.12.0 in /usr/local/lib/python3.10/dist-packages (from aiohttp->torch_geometric) (1.17.1)\n",
            "Requirement already satisfied: async-timeout<5.0,>=4.0 in /usr/local/lib/python3.10/dist-packages (from aiohttp->torch_geometric) (4.0.3)\n",
            "Requirement already satisfied: MarkupSafe>=2.0 in /usr/local/lib/python3.10/dist-packages (from jinja2->torch_geometric) (3.0.2)\n",
            "Requirement already satisfied: charset-normalizer<4,>=2 in /usr/local/lib/python3.10/dist-packages (from requests->torch_geometric) (3.4.0)\n",
            "Requirement already satisfied: idna<4,>=2.5 in /usr/local/lib/python3.10/dist-packages (from requests->torch_geometric) (3.10)\n",
            "Requirement already satisfied: urllib3<3,>=1.21.1 in /usr/local/lib/python3.10/dist-packages (from requests->torch_geometric) (2.2.3)\n",
            "Requirement already satisfied: certifi>=2017.4.17 in /usr/local/lib/python3.10/dist-packages (from requests->torch_geometric) (2024.8.30)\n",
            "Requirement already satisfied: typing-extensions>=4.1.0 in /usr/local/lib/python3.10/dist-packages (from multidict<7.0,>=4.5->aiohttp->torch_geometric) (4.12.2)\n",
            "Requirement already satisfied: propcache>=0.2.0 in /usr/local/lib/python3.10/dist-packages (from yarl<2.0,>=1.12.0->aiohttp->torch_geometric) (0.2.0)\n",
            "Downloading torch_geometric-2.6.1-py3-none-any.whl (1.1 MB)\n",
            "\u001b[2K   \u001b[90m━━━━━━━━━━━━━━━━━━━━━━━━━━━━━━━━━━━━━━━━\u001b[0m \u001b[32m1.1/1.1 MB\u001b[0m \u001b[31m17.1 MB/s\u001b[0m eta \u001b[36m0:00:00\u001b[0m\n",
            "\u001b[?25hInstalling collected packages: torch_geometric\n",
            "Successfully installed torch_geometric-2.6.1\n"
          ]
        }
      ],
      "source": [
        "!pip install torch_geometric"
      ]
    },
    {
      "cell_type": "code",
      "execution_count": null,
      "metadata": {
        "id": "cpZFjlcTIHDV"
      },
      "outputs": [],
      "source": [
        "import torch\n",
        "import torch_geometric\n",
        "from torch_geometric.data import Data\n",
        "from torch_geometric.nn import SAGEConv\n",
        "import torch.nn.functional as F\n",
        "import pandas as pd\n",
        "import numpy as np\n",
        "import ast"
      ]
    },
    {
      "cell_type": "markdown",
      "source": [
        "#Data preperation"
      ],
      "metadata": {
        "id": "xqSQr3t7L6k3"
      }
    },
    {
      "cell_type": "code",
      "source": [
        "\"\"\"\n",
        "Load data\n",
        "data.csv - the current jobs\n",
        "ind_to_emb.csv - the embeddings of the industries\n",
        "past.csv - the past jobs\n",
        "\"\"\"\n",
        "df = pd.read_csv('data.csv')\n",
        "print(df.columns)\n",
        "ind_to_emb_df = pd.read_csv('ind_to_emb.csv')\n",
        "print(ind_to_emb_df.columns)\n",
        "df_past = pd.read_csv('past.csv')\n",
        "print(df_past.columns)"
      ],
      "metadata": {
        "colab": {
          "base_uri": "https://localhost:8080/"
        },
        "id": "t5NCvckPoAbw",
        "outputId": "41e5419a-3e4f-42ea-e297-c31d74661a96"
      },
      "execution_count": null,
      "outputs": [
        {
          "output_type": "stream",
          "name": "stdout",
          "text": [
            "Index(['people_id', 'emb_est_courses', 'deg_feat', 'count_different_titles',\n",
            "       'companies', 'company_id', 'industries', 'organization_type'],\n",
            "      dtype='object')\n",
            "Index(['industries', 'emb_est_industries'], dtype='object')\n",
            "Index(['people_id', 'emb_est_courses', 'deg_feat', 'count_different_titles',\n",
            "       'companies', 'company_id', 'industries', 'organization_type'],\n",
            "      dtype='object')\n"
          ]
        }
      ]
    },
    {
      "cell_type": "code",
      "execution_count": null,
      "metadata": {
        "colab": {
          "base_uri": "https://localhost:8080/",
          "height": 313
        },
        "id": "wG1T9pqt4Mwo",
        "outputId": "4852727a-462b-488d-8fbc-184d44758cc0"
      },
      "outputs": [
        {
          "output_type": "execute_result",
          "data": {
            "text/plain": [
              "                 people_id                                    emb_est_courses  \\\n",
              "0     jasin-hiatt-335a5017  [-0.574041, 0.89257103, -0.17844869, -0.304130...   \n",
              "1      weiman-wu-2792b8161  [-1.4302264, 1.3031118, -0.5052855, -0.7669209...   \n",
              "2  steven-roberts-4b1778a6  [-1.3632072, 1.0786605, -0.40744635, -0.350970...   \n",
              "3  kavisha-sheth-805817244  [-1.5193152, -0.19657813, 0.08053098, -1.72605...   \n",
              "4            franklibretto  [-1.2257826, 1.1416869, -0.38558006, -0.678849...   \n",
              "\n",
              "   deg_feat  count_different_titles                companies  company_id  \\\n",
              "0         0                      10                      ...    73048085   \n",
              "1         3                       2   Barnes & Noble College       28332   \n",
              "2         3                       9  Richmond Public Schools     8812329   \n",
              "3         0                       3                DECA Inc.     1407425   \n",
              "4         2                      10  Meisinger Aviation, LLC     2656364   \n",
              "\n",
              "                                          industries organization_type  \n",
              "0  [-2.119343, 1.1766198, -1.3368629, -1.2402979,...       Educational  \n",
              "1  [-1.0413215, 1.2936286, -1.4789488, -1.9200661...    Public Company  \n",
              "2  [-2.119343, 1.1766198, -1.3368629, -1.2402979,...       Educational  \n",
              "3  [-2.119343, 1.1766198, -1.3368629, -1.2402979,...         Nonprofit  \n",
              "4  [-0.07268268, 1.4661174, -1.5976624, -1.465338...    Privately Held  "
            ],
            "text/html": [
              "\n",
              "  <div id=\"df-31089236-e546-4606-89ca-cca434a23f4d\" class=\"colab-df-container\">\n",
              "    <div>\n",
              "<style scoped>\n",
              "    .dataframe tbody tr th:only-of-type {\n",
              "        vertical-align: middle;\n",
              "    }\n",
              "\n",
              "    .dataframe tbody tr th {\n",
              "        vertical-align: top;\n",
              "    }\n",
              "\n",
              "    .dataframe thead th {\n",
              "        text-align: right;\n",
              "    }\n",
              "</style>\n",
              "<table border=\"1\" class=\"dataframe\">\n",
              "  <thead>\n",
              "    <tr style=\"text-align: right;\">\n",
              "      <th></th>\n",
              "      <th>people_id</th>\n",
              "      <th>emb_est_courses</th>\n",
              "      <th>deg_feat</th>\n",
              "      <th>count_different_titles</th>\n",
              "      <th>companies</th>\n",
              "      <th>company_id</th>\n",
              "      <th>industries</th>\n",
              "      <th>organization_type</th>\n",
              "    </tr>\n",
              "  </thead>\n",
              "  <tbody>\n",
              "    <tr>\n",
              "      <th>0</th>\n",
              "      <td>jasin-hiatt-335a5017</td>\n",
              "      <td>[-0.574041, 0.89257103, -0.17844869, -0.304130...</td>\n",
              "      <td>0</td>\n",
              "      <td>10</td>\n",
              "      <td>...</td>\n",
              "      <td>73048085</td>\n",
              "      <td>[-2.119343, 1.1766198, -1.3368629, -1.2402979,...</td>\n",
              "      <td>Educational</td>\n",
              "    </tr>\n",
              "    <tr>\n",
              "      <th>1</th>\n",
              "      <td>weiman-wu-2792b8161</td>\n",
              "      <td>[-1.4302264, 1.3031118, -0.5052855, -0.7669209...</td>\n",
              "      <td>3</td>\n",
              "      <td>2</td>\n",
              "      <td>Barnes &amp; Noble College</td>\n",
              "      <td>28332</td>\n",
              "      <td>[-1.0413215, 1.2936286, -1.4789488, -1.9200661...</td>\n",
              "      <td>Public Company</td>\n",
              "    </tr>\n",
              "    <tr>\n",
              "      <th>2</th>\n",
              "      <td>steven-roberts-4b1778a6</td>\n",
              "      <td>[-1.3632072, 1.0786605, -0.40744635, -0.350970...</td>\n",
              "      <td>3</td>\n",
              "      <td>9</td>\n",
              "      <td>Richmond Public Schools</td>\n",
              "      <td>8812329</td>\n",
              "      <td>[-2.119343, 1.1766198, -1.3368629, -1.2402979,...</td>\n",
              "      <td>Educational</td>\n",
              "    </tr>\n",
              "    <tr>\n",
              "      <th>3</th>\n",
              "      <td>kavisha-sheth-805817244</td>\n",
              "      <td>[-1.5193152, -0.19657813, 0.08053098, -1.72605...</td>\n",
              "      <td>0</td>\n",
              "      <td>3</td>\n",
              "      <td>DECA Inc.</td>\n",
              "      <td>1407425</td>\n",
              "      <td>[-2.119343, 1.1766198, -1.3368629, -1.2402979,...</td>\n",
              "      <td>Nonprofit</td>\n",
              "    </tr>\n",
              "    <tr>\n",
              "      <th>4</th>\n",
              "      <td>franklibretto</td>\n",
              "      <td>[-1.2257826, 1.1416869, -0.38558006, -0.678849...</td>\n",
              "      <td>2</td>\n",
              "      <td>10</td>\n",
              "      <td>Meisinger Aviation, LLC</td>\n",
              "      <td>2656364</td>\n",
              "      <td>[-0.07268268, 1.4661174, -1.5976624, -1.465338...</td>\n",
              "      <td>Privately Held</td>\n",
              "    </tr>\n",
              "  </tbody>\n",
              "</table>\n",
              "</div>\n",
              "    <div class=\"colab-df-buttons\">\n",
              "\n",
              "  <div class=\"colab-df-container\">\n",
              "    <button class=\"colab-df-convert\" onclick=\"convertToInteractive('df-31089236-e546-4606-89ca-cca434a23f4d')\"\n",
              "            title=\"Convert this dataframe to an interactive table.\"\n",
              "            style=\"display:none;\">\n",
              "\n",
              "  <svg xmlns=\"http://www.w3.org/2000/svg\" height=\"24px\" viewBox=\"0 -960 960 960\">\n",
              "    <path d=\"M120-120v-720h720v720H120Zm60-500h600v-160H180v160Zm220 220h160v-160H400v160Zm0 220h160v-160H400v160ZM180-400h160v-160H180v160Zm440 0h160v-160H620v160ZM180-180h160v-160H180v160Zm440 0h160v-160H620v160Z\"/>\n",
              "  </svg>\n",
              "    </button>\n",
              "\n",
              "  <style>\n",
              "    .colab-df-container {\n",
              "      display:flex;\n",
              "      gap: 12px;\n",
              "    }\n",
              "\n",
              "    .colab-df-convert {\n",
              "      background-color: #E8F0FE;\n",
              "      border: none;\n",
              "      border-radius: 50%;\n",
              "      cursor: pointer;\n",
              "      display: none;\n",
              "      fill: #1967D2;\n",
              "      height: 32px;\n",
              "      padding: 0 0 0 0;\n",
              "      width: 32px;\n",
              "    }\n",
              "\n",
              "    .colab-df-convert:hover {\n",
              "      background-color: #E2EBFA;\n",
              "      box-shadow: 0px 1px 2px rgba(60, 64, 67, 0.3), 0px 1px 3px 1px rgba(60, 64, 67, 0.15);\n",
              "      fill: #174EA6;\n",
              "    }\n",
              "\n",
              "    .colab-df-buttons div {\n",
              "      margin-bottom: 4px;\n",
              "    }\n",
              "\n",
              "    [theme=dark] .colab-df-convert {\n",
              "      background-color: #3B4455;\n",
              "      fill: #D2E3FC;\n",
              "    }\n",
              "\n",
              "    [theme=dark] .colab-df-convert:hover {\n",
              "      background-color: #434B5C;\n",
              "      box-shadow: 0px 1px 3px 1px rgba(0, 0, 0, 0.15);\n",
              "      filter: drop-shadow(0px 1px 2px rgba(0, 0, 0, 0.3));\n",
              "      fill: #FFFFFF;\n",
              "    }\n",
              "  </style>\n",
              "\n",
              "    <script>\n",
              "      const buttonEl =\n",
              "        document.querySelector('#df-31089236-e546-4606-89ca-cca434a23f4d button.colab-df-convert');\n",
              "      buttonEl.style.display =\n",
              "        google.colab.kernel.accessAllowed ? 'block' : 'none';\n",
              "\n",
              "      async function convertToInteractive(key) {\n",
              "        const element = document.querySelector('#df-31089236-e546-4606-89ca-cca434a23f4d');\n",
              "        const dataTable =\n",
              "          await google.colab.kernel.invokeFunction('convertToInteractive',\n",
              "                                                    [key], {});\n",
              "        if (!dataTable) return;\n",
              "\n",
              "        const docLinkHtml = 'Like what you see? Visit the ' +\n",
              "          '<a target=\"_blank\" href=https://colab.research.google.com/notebooks/data_table.ipynb>data table notebook</a>'\n",
              "          + ' to learn more about interactive tables.';\n",
              "        element.innerHTML = '';\n",
              "        dataTable['output_type'] = 'display_data';\n",
              "        await google.colab.output.renderOutput(dataTable, element);\n",
              "        const docLink = document.createElement('div');\n",
              "        docLink.innerHTML = docLinkHtml;\n",
              "        element.appendChild(docLink);\n",
              "      }\n",
              "    </script>\n",
              "  </div>\n",
              "\n",
              "\n",
              "<div id=\"df-329279bb-e0e3-4f0e-b5e6-278746bdffc5\">\n",
              "  <button class=\"colab-df-quickchart\" onclick=\"quickchart('df-329279bb-e0e3-4f0e-b5e6-278746bdffc5')\"\n",
              "            title=\"Suggest charts\"\n",
              "            style=\"display:none;\">\n",
              "\n",
              "<svg xmlns=\"http://www.w3.org/2000/svg\" height=\"24px\"viewBox=\"0 0 24 24\"\n",
              "     width=\"24px\">\n",
              "    <g>\n",
              "        <path d=\"M19 3H5c-1.1 0-2 .9-2 2v14c0 1.1.9 2 2 2h14c1.1 0 2-.9 2-2V5c0-1.1-.9-2-2-2zM9 17H7v-7h2v7zm4 0h-2V7h2v10zm4 0h-2v-4h2v4z\"/>\n",
              "    </g>\n",
              "</svg>\n",
              "  </button>\n",
              "\n",
              "<style>\n",
              "  .colab-df-quickchart {\n",
              "      --bg-color: #E8F0FE;\n",
              "      --fill-color: #1967D2;\n",
              "      --hover-bg-color: #E2EBFA;\n",
              "      --hover-fill-color: #174EA6;\n",
              "      --disabled-fill-color: #AAA;\n",
              "      --disabled-bg-color: #DDD;\n",
              "  }\n",
              "\n",
              "  [theme=dark] .colab-df-quickchart {\n",
              "      --bg-color: #3B4455;\n",
              "      --fill-color: #D2E3FC;\n",
              "      --hover-bg-color: #434B5C;\n",
              "      --hover-fill-color: #FFFFFF;\n",
              "      --disabled-bg-color: #3B4455;\n",
              "      --disabled-fill-color: #666;\n",
              "  }\n",
              "\n",
              "  .colab-df-quickchart {\n",
              "    background-color: var(--bg-color);\n",
              "    border: none;\n",
              "    border-radius: 50%;\n",
              "    cursor: pointer;\n",
              "    display: none;\n",
              "    fill: var(--fill-color);\n",
              "    height: 32px;\n",
              "    padding: 0;\n",
              "    width: 32px;\n",
              "  }\n",
              "\n",
              "  .colab-df-quickchart:hover {\n",
              "    background-color: var(--hover-bg-color);\n",
              "    box-shadow: 0 1px 2px rgba(60, 64, 67, 0.3), 0 1px 3px 1px rgba(60, 64, 67, 0.15);\n",
              "    fill: var(--button-hover-fill-color);\n",
              "  }\n",
              "\n",
              "  .colab-df-quickchart-complete:disabled,\n",
              "  .colab-df-quickchart-complete:disabled:hover {\n",
              "    background-color: var(--disabled-bg-color);\n",
              "    fill: var(--disabled-fill-color);\n",
              "    box-shadow: none;\n",
              "  }\n",
              "\n",
              "  .colab-df-spinner {\n",
              "    border: 2px solid var(--fill-color);\n",
              "    border-color: transparent;\n",
              "    border-bottom-color: var(--fill-color);\n",
              "    animation:\n",
              "      spin 1s steps(1) infinite;\n",
              "  }\n",
              "\n",
              "  @keyframes spin {\n",
              "    0% {\n",
              "      border-color: transparent;\n",
              "      border-bottom-color: var(--fill-color);\n",
              "      border-left-color: var(--fill-color);\n",
              "    }\n",
              "    20% {\n",
              "      border-color: transparent;\n",
              "      border-left-color: var(--fill-color);\n",
              "      border-top-color: var(--fill-color);\n",
              "    }\n",
              "    30% {\n",
              "      border-color: transparent;\n",
              "      border-left-color: var(--fill-color);\n",
              "      border-top-color: var(--fill-color);\n",
              "      border-right-color: var(--fill-color);\n",
              "    }\n",
              "    40% {\n",
              "      border-color: transparent;\n",
              "      border-right-color: var(--fill-color);\n",
              "      border-top-color: var(--fill-color);\n",
              "    }\n",
              "    60% {\n",
              "      border-color: transparent;\n",
              "      border-right-color: var(--fill-color);\n",
              "    }\n",
              "    80% {\n",
              "      border-color: transparent;\n",
              "      border-right-color: var(--fill-color);\n",
              "      border-bottom-color: var(--fill-color);\n",
              "    }\n",
              "    90% {\n",
              "      border-color: transparent;\n",
              "      border-bottom-color: var(--fill-color);\n",
              "    }\n",
              "  }\n",
              "</style>\n",
              "\n",
              "  <script>\n",
              "    async function quickchart(key) {\n",
              "      const quickchartButtonEl =\n",
              "        document.querySelector('#' + key + ' button');\n",
              "      quickchartButtonEl.disabled = true;  // To prevent multiple clicks.\n",
              "      quickchartButtonEl.classList.add('colab-df-spinner');\n",
              "      try {\n",
              "        const charts = await google.colab.kernel.invokeFunction(\n",
              "            'suggestCharts', [key], {});\n",
              "      } catch (error) {\n",
              "        console.error('Error during call to suggestCharts:', error);\n",
              "      }\n",
              "      quickchartButtonEl.classList.remove('colab-df-spinner');\n",
              "      quickchartButtonEl.classList.add('colab-df-quickchart-complete');\n",
              "    }\n",
              "    (() => {\n",
              "      let quickchartButtonEl =\n",
              "        document.querySelector('#df-329279bb-e0e3-4f0e-b5e6-278746bdffc5 button');\n",
              "      quickchartButtonEl.style.display =\n",
              "        google.colab.kernel.accessAllowed ? 'block' : 'none';\n",
              "    })();\n",
              "  </script>\n",
              "</div>\n",
              "\n",
              "    </div>\n",
              "  </div>\n"
            ],
            "application/vnd.google.colaboratory.intrinsic+json": {
              "type": "dataframe",
              "variable_name": "df",
              "summary": "{\n  \"name\": \"df\",\n  \"rows\": 882,\n  \"fields\": [\n    {\n      \"column\": \"people_id\",\n      \"properties\": {\n        \"dtype\": \"string\",\n        \"num_unique_values\": 837,\n        \"samples\": [\n          \"ctorres2\",\n          \"joeyremington\",\n          \"mestakevin\"\n        ],\n        \"semantic_type\": \"\",\n        \"description\": \"\"\n      }\n    },\n    {\n      \"column\": \"emb_est_courses\",\n      \"properties\": {\n        \"dtype\": \"string\",\n        \"num_unique_values\": 837,\n        \"samples\": [\n          \"[-0.73761684, 0.022310829, -0.16882192, -0.22007708, 0.062476113, -0.59201974, -0.1270737, -0.013847705, -1.434414, -1.32148, 1.1524444, 0.82665306, 0.46779683, -0.4710938, -0.21709962, -1.867524, -0.11890456, -0.20740958, -0.6502462, -0.141775, 0.90466547, 0.24156518, 1.6242576, 0.49092162, 3.1543663, -0.33210367, 0.05280975, 0.35839465, -0.19741014, -0.9523526, -0.7069531, -1.5492859, 0.45419613, -0.88914263, -0.029511055, -0.3271373, -0.14595918, 0.18553951, -1.8509879, -0.66562635, -0.31707057, 1.2265356, 0.50431204, -0.87518597, 0.3126912, -1.6015117, -0.9752022, 0.028066566, 0.41519678, 0.023905812, -0.0040637716, 1.0419334, 0.07289339, -0.23458421, 0.12092397, -0.28490847, 0.71362185, -0.7404796, 0.51499027, 1.1351652, 0.77561337, -0.2126098, -1.6231314, -0.88242495, -0.7742882, 0.92111254, 0.3801974, 0.5687251, -0.19965442, -1.0750841, -1.7423053, 0.5685575, 1.3495423, -0.64232945, -2.3248367, 0.3120877, 0.31724077, -0.25287706, 2.4219987, -0.3538811, -0.63794816, -0.7624184, -0.010987227, 0.32673296, -0.07617184, -1.42464, -0.13002457, 0.7864091, 0.57725805, -2.1281807, 1.5801032, 0.40597814, -0.0511311, 1.4185683, -0.36624974, 2.33968, 0.17698014, -0.6099485, -0.4471376, 0.8928293, 0.65155613, 0.41866693, 0.47630778, -0.16277283, 0.4348176, -0.7203588, -0.20271996, 0.19975117, 0.041623026, -1.569531, 0.48451915, 0.27855453, 0.26746106, -0.6652802, 0.6907249, 0.33513162, 0.5999865, 0.1263513, -0.377784, 0.25539374, 0.56393725, 0.3224599, 1.8188484, -1.1638224, -1.3111143, -1.1574615, -1.7695893, 0.71959513]\",\n          \"[-0.6082066, 1.4313077, -1.1931087, -2.916781, -0.30155206, 0.3154155, 0.6132658, 1.4394404, -1.0995458, 0.44949365, 0.98696196, 0.5527985, -0.15679483, -0.6005878, 1.1415429, -1.0400331, -0.60322785, -0.56810683, -0.8453207, 1.7026885, 0.42228955, -0.38089684, 1.6913917, 1.7524483, 1.6610124, -0.35003266, 0.14913385, -0.18513194, -0.25934294, 0.46050274, -0.99983734, -1.2368029, -0.8961037, 0.26428357, 1.5182743, -0.7618284, -0.24778366, -0.7018013, -1.5322621, -1.615996, 0.6860794, 1.3203001, 1.4902931, -1.4435753, 0.9188508, -1.5324165, -0.2892504, -0.21546152, 0.29916963, 0.84447163, 0.5387183, 1.0871434, -0.8243145, -0.44614786, -0.40819082, -0.7709078, 0.610125, -0.47010097, -0.41269207, 1.7041516, -0.16037062, -1.0068474, -1.8644994, -0.60949814, -1.8516098, -0.68946546, 0.5729362, -0.22161712, -0.55912197, -1.8831664, -0.4461051, 0.7402937, -0.75505656, -0.5493699, -1.2628897, 0.8388546, 0.333665, -0.5257462, 2.1358604, 1.7616688, 0.5882337, -0.20428625, 0.72766805, 0.0916974, -0.18923643, -0.4411122, -0.77854866, -0.7952018, 2.826021, -2.4001389, 1.9378889, 0.87890756, -1.4486537, 0.26487225, 0.6311813, 0.7740841, -0.48227805, 0.014906214, 0.07925904, 0.011202755, -1.1504252, -0.10386397, -0.16735983, -0.79885375, 0.7077311, -1.0169227, -0.9809185, 0.98582023, 0.22236902, -1.5294466, 0.61143434, 0.48510963, -0.06834024, 0.31134263, 0.8144981, 0.3525073, 0.5838342, 0.51348734, 1.0659931, -0.55201316, -0.104911014, 1.7399911, 0.18032226, -0.5149859, -1.4611892, -1.7224357, -1.4018803, -0.21210372]\",\n          \"[-0.66328937, 0.3471601, -0.13906379, -0.5553272, -1.2953231, -0.2312388, 0.04714288, -0.40724233, -1.3236291, -0.97173536, 1.9690266, 0.33277488, 0.70064026, -0.6193972, 0.6604511, -0.7544636, -0.9751839, 0.26635927, -0.22927004, -0.17429827, 1.272632, -0.09233341, 1.935468, -0.060916133, 2.8607373, 0.021984417, -0.3142107, -0.1281488, -0.0031594317, 0.07115938, -0.59087425, -1.6904187, 0.297213, -1.2663912, -0.29463875, -0.7700776, 0.29991856, -0.12591057, -1.7821597, -0.13755754, 0.20024523, 1.7116861, 0.5685679, -1.60638, -0.006053324, -1.3930141, -1.2181673, 0.26673344, 0.22599131, -0.014373249, -0.24739228, 1.5451434, -0.6931391, 0.0435448, 0.21785747, -0.54424226, 0.65077585, -0.22101936, -0.06576869, 1.5214744, 0.20741199, -0.99964184, -1.8162725, -0.8339105, -1.3368979, 0.8032629, 0.36462575, -0.3941387, 0.1609199, -1.7037175, -1.1844593, 0.42354903, 1.1961156, -0.36171043, -1.7199998, -0.15427396, 0.39109516, 0.19976012, 1.8878099, 0.25672343, -0.445518, -0.5178843, -0.26012087, 0.15033518, 0.035235148, -1.0804619, -0.3893961, 0.6296882, 0.9467962, -3.0960639, 1.2128146, 0.14908658, 0.13289869, 1.4558828, 0.06644236, 1.6484897, 0.37839437, -0.95724463, -0.36841598, 0.658468, 0.6316851, 0.97079676, 0.009450782, -0.85341084, -0.032350764, -0.72819984, -0.19145133, -0.31909963, -0.4542344, -1.0086298, 0.35441273, 0.11154262, 1.2829756, -0.5518132, 0.42068097, 0.5457685, 0.34122103, 0.5314871, 0.5003419, 0.9768338, 0.9379829, 0.7447481, 1.737439, -0.70213, -1.7477759, -1.2947893, -0.80443645, 0.5598745]\"\n        ],\n        \"semantic_type\": \"\",\n        \"description\": \"\"\n      }\n    },\n    {\n      \"column\": \"deg_feat\",\n      \"properties\": {\n        \"dtype\": \"number\",\n        \"std\": 0,\n        \"min\": 0,\n        \"max\": 5,\n        \"num_unique_values\": 6,\n        \"samples\": [\n          0,\n          3,\n          5\n        ],\n        \"semantic_type\": \"\",\n        \"description\": \"\"\n      }\n    },\n    {\n      \"column\": \"count_different_titles\",\n      \"properties\": {\n        \"dtype\": \"number\",\n        \"std\": 2,\n        \"min\": 1,\n        \"max\": 19,\n        \"num_unique_values\": 16,\n        \"samples\": [\n          10,\n          2,\n          1\n        ],\n        \"semantic_type\": \"\",\n        \"description\": \"\"\n      }\n    },\n    {\n      \"column\": \"companies\",\n      \"properties\": {\n        \"dtype\": \"string\",\n        \"num_unique_values\": 443,\n        \"samples\": [\n          \"Passport\",\n          \"Kohler Co.\",\n          \"CCS\"\n        ],\n        \"semantic_type\": \"\",\n        \"description\": \"\"\n      }\n    },\n    {\n      \"column\": \"company_id\",\n      \"properties\": {\n        \"dtype\": \"number\",\n        \"std\": 22137739,\n        \"min\": 1334,\n        \"max\": 98385331,\n        \"num_unique_values\": 455,\n        \"samples\": [\n          2595414,\n          1286338,\n          1605962\n        ],\n        \"semantic_type\": \"\",\n        \"description\": \"\"\n      }\n    },\n    {\n      \"column\": \"industries\",\n      \"properties\": {\n        \"dtype\": \"category\",\n        \"num_unique_values\": 93,\n        \"samples\": [\n          \"[-1.3119391, 1.7658617, -1.7777729, -1.7157161, -0.41585898, -0.09052294, -0.3337385, 0.87408954, 0.1859686, 0.14415954, 2.0087605, -0.30872712, -1.9509693, -0.14634804, 0.65877956, -1.2972083, -1.0843489, -0.10595818, -2.133701, 1.5751848, 0.8465444, 0.61124516, 2.0755894, 1.3612105, 0.94198114, -1.3851724, -0.09257682, 0.093136355, 0.24397776, -0.51655066, -1.0866, -1.652408, -0.15007149, 0.16787846, 0.8455046, -1.5591666, 0.122821346, -0.3090401, -2.9248443, -0.5409962, 0.76992047, -0.17579746, 0.8880494, -1.8867384, 0.6330074, -0.09560653, 0.66035366, -0.31084692, -0.14718455, 0.40875793, -0.22034991, 1.1165322, -1.137536, 0.33826673, 0.14928094, -0.39616686, 0.021907609, 0.14710166, -0.57548416, 0.9826415, 1.173758, -0.88337994, -2.040526, -0.47325724, -0.9083947, -0.20307823, 0.69782686, 0.74530876, 0.67245454, -0.74632984, -0.020501655, 0.09305464, -0.4125178, 0.13201839, -1.453875, -0.70586944, 1.1976485, -0.52395624, 1.987771, 1.5002323, -0.5939973, -1.3823537, 0.5347087, 0.055588514, 0.35778078, 0.13870677, -0.9526509, -1.2453405, 0.9295266, -1.8436348, 1.7614765, 0.6119293, -1.3830361, 0.25891012, 1.1498777, 0.16721731, 0.5822226, -0.089529715, 0.13339157, 0.36742878, -0.6036602, 0.43629187, 0.28000763, -0.8280452, 0.66144, -1.6277138, -1.670887, 1.0413992, 0.29047054, -0.380122, -0.44543663, 1.4736772, -0.17761949, 0.10692422, 1.3679566, 0.8658597, -0.0082541825, 0.5822933, 0.33960456, 0.49518448, -0.19787708, 1.3482658, 0.8816446, 0.6078104, -1.7164123, -2.2971604, -1.4111525, 0.10611262]\",\n          \"[-1.2281951, 2.027489, -1.6293951, -2.3328333, 0.08696763, 0.3584655, -0.23525271, 0.45800304, -0.13532439, 0.10717516, 1.5120752, -0.4589652, -2.2858403, -0.2357479, 1.0203571, -1.062131, -1.4390996, -1.1520152, -1.4633512, 1.5411781, 0.28512567, 0.9654996, 2.5477283, 1.9227108, 1.7223936, -0.8616524, 0.53539306, -1.0390203, 1.2634928, 0.49768835, -0.5855306, -1.0953574, -0.5008637, 0.5135261, 1.1513817, -2.2943902, 0.23881793, -0.4696114, -2.181807, -1.0159839, 0.16250415, -0.4740797, 1.6556618, -1.2389865, -0.464008, 0.034973316, -0.24979326, -0.8684405, -0.24075758, -0.07323323, 0.3539025, 1.003414, 0.22897062, 0.14034936, -0.097893305, -1.0452683, -0.09746168, 0.33499813, -1.1092794, 2.1219375, 0.3409739, -0.40642142, -1.2982211, -0.3559073, -1.1797842, -0.024643729, 0.75333124, 0.14778891, 0.006273818, 0.25142843, -0.69059443, 0.11582651, 0.24683185, -0.3519741, -1.6337163, -0.08916274, 1.3799021, -0.27973062, 1.984979, 0.74923456, -1.0863951, -0.34583384, 0.05055504, -0.30246112, 0.92053175, 0.4670082, 0.2950928, -0.33962736, 1.4356098, -2.3360286, 1.8694942, 0.5050367, -0.9915401, 0.69401586, -0.09860326, 0.62385494, 0.40620866, -1.7551066, -1.1426057, 0.52415484, -0.074194685, -0.23554972, 0.73082817, -0.4170328, 1.0333827, -1.2727922, -0.965505, 0.7343132, 0.6135525, -1.006016, -0.30684334, 0.61330414, -0.008111601, -0.5045927, 1.1242796, 1.0159786, 0.23176226, 0.622664, 0.5438498, 0.09014027, -0.5504533, 0.9206767, 1.0256426, 0.0061653582, -1.9191567, -2.1983087, -1.1591574, -0.27423343]\",\n          \"[-1.2436477, 1.0878501, -1.0931541, -1.7119064, 0.16379529, 0.78469384, 0.22200336, 1.6698089, -1.0252817, 0.06175959, 1.7928007, 0.23440701, -0.7883067, -0.52738106, 3.1639752, -0.04789312, -0.62874883, -1.3348734, -1.6579999, 1.8827839, -0.57180744, 0.32511085, 1.8675164, 1.396427, 0.5917984, -1.0714235, 0.47634092, 0.22569543, -0.17229885, 0.24325871, -0.59786814, -1.4449563, -0.8227385, -0.18458301, 1.0115229, -1.034776, -0.68148786, -1.1741241, -2.6202502, -2.0893779, 0.26362637, 0.60329676, 0.837766, -1.8641665, 0.853844, -0.5409298, -0.34958133, -1.6151751, -0.6066005, 0.49415624, 0.20124921, 0.8726866, 0.7296877, -0.856879, 0.5399312, -0.27289593, 0.44436634, -0.33785206, -0.53928024, 0.8365055, 1.3993248, -0.06187376, -1.5573615, -0.3256209, -1.842219, -1.2671516, 0.010025312, 0.82732093, 0.61632115, -1.3347341, -0.33632967, 1.0645721, -0.3781235, 0.06440063, -0.85064274, 0.17653063, 0.2315833, -0.47708723, 1.544328, 0.9729467, -0.13969271, -0.4450973, -0.50252426, -0.3406019, -0.23815738, 0.37018174, -0.3191958, -0.83947253, 2.4857016, -2.6062822, 1.9987445, 1.5207791, -0.7062186, 0.9787194, 0.3048104, 0.36886308, -0.10348723, -0.46981573, 0.81930906, 0.9255153, -0.9001221, 0.4780965, 0.20281063, -1.0166614, 0.85698354, -1.0222664, -0.35687393, 0.2215347, 0.8187049, -1.2304705, 0.24344161, 0.68389565, 0.66775155, 0.901224, 0.15386894, 0.5337078, 0.30068815, -0.46798575, 0.21474618, -0.68761057, 0.73861253, 1.207125, 0.86602175, -1.3181586, -1.2482514, -1.6523134, -1.3656652, -1.0938653]\"\n        ],\n        \"semantic_type\": \"\",\n        \"description\": \"\"\n      }\n    },\n    {\n      \"column\": \"organization_type\",\n      \"properties\": {\n        \"dtype\": \"category\",\n        \"num_unique_values\": 8,\n        \"samples\": [\n          \"Public Company\",\n          \"Partnership\",\n          \"Educational\"\n        ],\n        \"semantic_type\": \"\",\n        \"description\": \"\"\n      }\n    }\n  ]\n}"
            }
          },
          "metadata": {},
          "execution_count": 30
        }
      ],
      "source": [
        "#embed industries from ind_to_emb\n",
        "industry_embedding_map = dict(zip(ind_to_emb_df['industries'], ind_to_emb_df['emb_est_industries']))\n",
        "for x in industry_embedding_map:\n",
        "  y = industry_embedding_map[x]\n",
        "  start = y.find(\"[\")\n",
        "  end = y.find(\"]\") + 1   # +1 to include the last ]\n",
        "  industry_embedding_map[x] = y[start:end]\n",
        "#print(industry_embedding_map)\n",
        "\n",
        "def get_embedding(industry):\n",
        "    return industry_embedding_map.get(industry)\n",
        "\n",
        "\n",
        "# Replace the 'industries' column in df with the embeddings from ind_to_emb.csv\n",
        "df['industries'] = df['industries'].map(get_embedding)\n",
        "df_past['industries'] = df_past['industries'].map(get_embedding)\n",
        "\n",
        "# Display the updated dataframe\n",
        "df.head()"
      ]
    },
    {
      "cell_type": "markdown",
      "source": [
        "# == New imports =="
      ],
      "metadata": {
        "id": "Tpb6lMJ2ZQuE"
      }
    },
    {
      "cell_type": "code",
      "source": [
        "#create df of people and embeding for each\n",
        "past_jobs = df_past[['people_id', 'emb_est_courses', 'deg_feat', 'count_different_titles']]\n",
        "past_jobs.rename(columns={'emb_est_courses': 'emb'}, inplace=True)\n",
        "\n",
        "curr_jobs = df[['people_id','emb_est_courses', 'deg_feat', 'count_different_titles']]\n",
        "curr_jobs.rename(columns={'emb_est_courses': 'emb'}, inplace=True)\n",
        "people = pd.concat([past_jobs, curr_jobs])"
      ],
      "metadata": {
        "id": "eCWY8XR7ZQBI",
        "collapsed": true,
        "colab": {
          "base_uri": "https://localhost:8080/"
        },
        "outputId": "1d5ca200-3232-48f1-bcc5-ed4ed1f4187c"
      },
      "execution_count": null,
      "outputs": [
        {
          "output_type": "stream",
          "name": "stderr",
          "text": [
            "<ipython-input-31-f6326e5b0dd4>:3: SettingWithCopyWarning: \n",
            "A value is trying to be set on a copy of a slice from a DataFrame\n",
            "\n",
            "See the caveats in the documentation: https://pandas.pydata.org/pandas-docs/stable/user_guide/indexing.html#returning-a-view-versus-a-copy\n",
            "  past_jobs.rename(columns={'emb_est_courses': 'emb'}, inplace=True)\n",
            "<ipython-input-31-f6326e5b0dd4>:6: SettingWithCopyWarning: \n",
            "A value is trying to be set on a copy of a slice from a DataFrame\n",
            "\n",
            "See the caveats in the documentation: https://pandas.pydata.org/pandas-docs/stable/user_guide/indexing.html#returning-a-view-versus-a-copy\n",
            "  curr_jobs.rename(columns={'emb_est_courses': 'emb'}, inplace=True)\n"
          ]
        }
      ]
    },
    {
      "cell_type": "code",
      "source": [
        "#create df of companies and embedding for each\n",
        "curr_comp = df[['company_id','industries', 'organization_type']]\n",
        "curr_comp.rename(columns={'industries': 'emb'}, inplace=True)\n",
        "\n",
        "past_comp = df_past[['company_id','industries', 'organization_type']]\n",
        "past_comp.rename(columns={'industries': 'emb'}, inplace=True)\n",
        "comp = pd.concat([curr_comp, past_comp]).drop_duplicates(subset=\"company_id\").reset_index(drop=True)"
      ],
      "metadata": {
        "id": "O7eXyM6qiGqJ",
        "colab": {
          "base_uri": "https://localhost:8080/"
        },
        "outputId": "7e97f35e-500a-4a40-d48b-5395d59d7b6d"
      },
      "execution_count": null,
      "outputs": [
        {
          "output_type": "stream",
          "name": "stderr",
          "text": [
            "<ipython-input-33-64c5f32ea76b>:3: SettingWithCopyWarning: \n",
            "A value is trying to be set on a copy of a slice from a DataFrame\n",
            "\n",
            "See the caveats in the documentation: https://pandas.pydata.org/pandas-docs/stable/user_guide/indexing.html#returning-a-view-versus-a-copy\n",
            "  curr_comp.rename(columns={'industries': 'emb'}, inplace=True)\n",
            "<ipython-input-33-64c5f32ea76b>:6: SettingWithCopyWarning: \n",
            "A value is trying to be set on a copy of a slice from a DataFrame\n",
            "\n",
            "See the caveats in the documentation: https://pandas.pydata.org/pandas-docs/stable/user_guide/indexing.html#returning-a-view-versus-a-copy\n",
            "  past_comp.rename(columns={'industries': 'emb'}, inplace=True)\n"
          ]
        }
      ]
    },
    {
      "cell_type": "code",
      "source": [
        "# One-hot encode organiztion type\n",
        "comp = pd.get_dummies(comp, columns=['organization_type'], prefix='organization_type')\n",
        "# Convert only one-hot columns to integers\n",
        "one_hot_columns = [col for col in comp.columns if col.startswith('organization_type_')]\n",
        "comp[one_hot_columns] = comp[one_hot_columns].astype(int)"
      ],
      "metadata": {
        "id": "EwbAca5pEctI"
      },
      "execution_count": null,
      "outputs": []
    },
    {
      "cell_type": "markdown",
      "source": [
        "creating edges:"
      ],
      "metadata": {
        "id": "8YxTJtzVM_I-"
      }
    },
    {
      "cell_type": "code",
      "source": [
        "curr_edge = df[['people_id','company_id']]\n",
        "past_edge = df_past[['people_id','company_id']]"
      ],
      "metadata": {
        "id": "y2NjgMj1lHa4"
      },
      "execution_count": null,
      "outputs": []
    },
    {
      "cell_type": "markdown",
      "source": [
        "# Embedding"
      ],
      "metadata": {
        "id": "uA5qLy7vZbs7"
      }
    },
    {
      "cell_type": "code",
      "source": [
        "# transform the list of embedding values to array type from string type\n",
        "comp['emb'] = comp['emb'].apply(ast.literal_eval)\n",
        "people['emb'] = people['emb'].apply(ast.literal_eval)\n",
        "\n",
        "# Create a unique mapping of each people_id string to an integer\n",
        "people_mapping = {id_str: idx for idx, id_str in enumerate(people['people_id'].unique())}\n",
        "company_mapping = {id_str: idx for idx, id_str in enumerate(comp['company_id'].unique())}"
      ],
      "metadata": {
        "id": "39VqdDZttHzW"
      },
      "execution_count": null,
      "outputs": []
    },
    {
      "cell_type": "code",
      "source": [
        "#apply mapping\n",
        "\n",
        "#companies_nodes\n",
        "comp['company_id'] = comp['company_id'].map(company_mapping)\n",
        "\n",
        "#people_nodes\n",
        "people['people_id'] = people['people_id'].map(people_mapping)\n",
        "\n",
        "#past_edge\n",
        "past_edge['people_id'] = past_edge['people_id'].map(people_mapping)\n",
        "past_edge['company_id'] = past_edge['company_id'].map(company_mapping)\n",
        "\n",
        "#curr_edge\n",
        "curr_edge['people_id'] = curr_edge['people_id'].map(people_mapping)\n",
        "curr_edge['company_id'] = curr_edge['company_id'].map(company_mapping)"
      ],
      "metadata": {
        "id": "rAayPuShMidc",
        "colab": {
          "base_uri": "https://localhost:8080/"
        },
        "outputId": "c0e76c09-38e1-451b-feaa-1d8155d9662c"
      },
      "execution_count": null,
      "outputs": [
        {
          "output_type": "stream",
          "name": "stderr",
          "text": [
            "<ipython-input-37-9911ad01560f>:10: SettingWithCopyWarning: \n",
            "A value is trying to be set on a copy of a slice from a DataFrame.\n",
            "Try using .loc[row_indexer,col_indexer] = value instead\n",
            "\n",
            "See the caveats in the documentation: https://pandas.pydata.org/pandas-docs/stable/user_guide/indexing.html#returning-a-view-versus-a-copy\n",
            "  past_edge['people_id'] = past_edge['people_id'].map(people_mapping)\n",
            "<ipython-input-37-9911ad01560f>:11: SettingWithCopyWarning: \n",
            "A value is trying to be set on a copy of a slice from a DataFrame.\n",
            "Try using .loc[row_indexer,col_indexer] = value instead\n",
            "\n",
            "See the caveats in the documentation: https://pandas.pydata.org/pandas-docs/stable/user_guide/indexing.html#returning-a-view-versus-a-copy\n",
            "  past_edge['company_id'] = past_edge['company_id'].map(company_mapping)\n",
            "<ipython-input-37-9911ad01560f>:14: SettingWithCopyWarning: \n",
            "A value is trying to be set on a copy of a slice from a DataFrame.\n",
            "Try using .loc[row_indexer,col_indexer] = value instead\n",
            "\n",
            "See the caveats in the documentation: https://pandas.pydata.org/pandas-docs/stable/user_guide/indexing.html#returning-a-view-versus-a-copy\n",
            "  curr_edge['people_id'] = curr_edge['people_id'].map(people_mapping)\n",
            "<ipython-input-37-9911ad01560f>:15: SettingWithCopyWarning: \n",
            "A value is trying to be set on a copy of a slice from a DataFrame.\n",
            "Try using .loc[row_indexer,col_indexer] = value instead\n",
            "\n",
            "See the caveats in the documentation: https://pandas.pydata.org/pandas-docs/stable/user_guide/indexing.html#returning-a-view-versus-a-copy\n",
            "  curr_edge['company_id'] = curr_edge['company_id'].map(company_mapping)\n"
          ]
        }
      ]
    },
    {
      "cell_type": "markdown",
      "source": [
        "# Transform Data to Tensors"
      ],
      "metadata": {
        "id": "iX14CYr1ERP_"
      }
    },
    {
      "cell_type": "code",
      "source": [
        "# Add padding to people df in order to have the same dimentions as companies\n",
        "new_columns = ['col1', 'col2', 'col3', 'col4', 'col5', 'col6']\n",
        "people[new_columns] = 0"
      ],
      "metadata": {
        "id": "dDRt9fyTGU2B"
      },
      "execution_count": null,
      "outputs": []
    },
    {
      "cell_type": "code",
      "execution_count": null,
      "metadata": {
        "id": "0TLnk42MIN7-"
      },
      "outputs": [],
      "source": [
        "# Convert `emb` from a column of arrays to a 2D array\n",
        "emb_values = np.stack(comp['emb'].values)  # Ensures emb is a consistent 2D array\n",
        "# Stack `emb_values` with `deg_feat` and `count_different_titles`\n",
        "comp_features = np.hstack([\n",
        "    emb_values,\n",
        "    comp[['organization_type_Educational',\n",
        "       'organization_type_Government Agency', 'organization_type_Nonprofit',\n",
        "       'organization_type_Partnership', 'organization_type_Privately Held',\n",
        "       'organization_type_Public Company', 'organization_type_Self-Employed',\n",
        "       'organization_type_Self-Owned']].values\n",
        "])\n",
        "# Convert embeddings to a tensor for node features\n",
        "x1 = torch.tensor(comp_features, dtype=torch.float)  # Node feature matrix\n",
        "node_ids1 = torch.tensor(comp['company_id'].values, dtype=torch.long)     # Node IDs\n",
        "\n",
        "# Convert `emb` from a column of arrays to a 2D array\n",
        "emb_values = np.stack(people['emb'].values)  # Ensures emb is a consistent 2D array\n",
        "\n",
        "# Stack `emb_values` with `deg_feat` and `count_different_titles`\n",
        "people_features = np.hstack([\n",
        "    emb_values,\n",
        "    people[['deg_feat', 'count_different_titles', 'col1', 'col2', 'col3', 'col4', 'col5', 'col6']].values\n",
        "])\n",
        "\n",
        "# Convert to a PyTorch tensor\n",
        "x2 = torch.tensor(people_features, dtype=torch.float)\n",
        "# Assuming your DataFrame is named df\n",
        "node_ids2 = torch.tensor(people['people_id'].values, dtype=torch.long)\n",
        "\n",
        "\n",
        "# Create node type tensors\n",
        "node_types1 = torch.zeros(len(comp), dtype=torch.long)  # Type 'a' (companies) labeled as 0\n",
        "node_types2 = torch.ones(len(people), dtype=torch.long)   # Type 'b' (people) labeled as 1\n",
        "\n",
        "# Concatenate embeddings, IDs, and types\n",
        "x = torch.cat([x1, x2], dim=0)               # Combined feature matrix\n",
        "node_ids = torch.cat([node_ids1, node_ids2]) # Combined node IDs\n",
        "node_types = torch.cat([node_types1, node_types2])  # Combined node types"
      ]
    },
    {
      "cell_type": "code",
      "source": [
        "# create edges\n",
        "past_edge_index = torch.tensor(past_edge[['people_id', 'company_id']].values.T, dtype=torch.long)  # Shape [2, num_edges]\n",
        "curr_edge_index = torch.tensor(curr_edge[['people_id', 'company_id']].values.T, dtype=torch.long)  # Shape [2, num_edges]"
      ],
      "metadata": {
        "id": "e3L6OB70wQJD"
      },
      "execution_count": null,
      "outputs": []
    },
    {
      "cell_type": "code",
      "source": [
        "#remove duplicates\n",
        "for i in range(curr_edge_index.shape[1]):\n",
        "    # Get the current edge to remove from past_edge_index\n",
        "    edge = curr_edge_index[:, i]\n",
        "\n",
        "    # Step 2: Find the matching edge in past_edge_index\n",
        "    mask = torch.all(past_edge_index == edge[:, None], dim=0)\n",
        "\n",
        "    # Step 3: Remove the matching edge(s) from past_edge_index\n",
        "    past_edge_index = past_edge_index[:, ~mask]\n",
        "\n",
        "# Output the remaining edges in past_edge_index\n",
        "print(past_edge_index)"
      ],
      "metadata": {
        "colab": {
          "base_uri": "https://localhost:8080/"
        },
        "id": "3h8bRVtjcf0w",
        "outputId": "c10797f3-1457-46bc-aa30-d552ab1bb174"
      },
      "execution_count": null,
      "outputs": [
        {
          "output_type": "stream",
          "name": "stdout",
          "text": [
            "tensor([[   0,    2,    4,  ..., 7137, 7138, 7139],\n",
            "        [   0,    1,  455,  ..., 3135, 3135, 3135]])\n"
          ]
        }
      ]
    },
    {
      "cell_type": "code",
      "source": [
        "# Convert edge indices to tuples for easy comparison\n",
        "past_edges = set(map(tuple, past_edge_index.t().tolist()))\n",
        "curr_edges = set(map(tuple, curr_edge_index.t().tolist()))\n",
        "\n",
        "# Find common and unique edges\n",
        "common_edges = past_edges.intersection(curr_edges)\n",
        "unique_past_edges = past_edges - common_edges\n",
        "unique_curr_edges = curr_edges - common_edges\n",
        "\n",
        "# Print results\n",
        "print(f\"Number of common edges: {len(common_edges)}\")\n",
        "print(f\"Number of unique edges in past_edge_index: {len(unique_past_edges)}\")\n",
        "print(f\"Number of unique edges in curr_edge_index: {len(unique_curr_edges)}\")\n"
      ],
      "metadata": {
        "colab": {
          "base_uri": "https://localhost:8080/"
        },
        "id": "8yzyYOfq3muA",
        "outputId": "49379b11-6f93-4fe9-d9c0-aaec3b2504b6"
      },
      "execution_count": null,
      "outputs": [
        {
          "output_type": "stream",
          "name": "stdout",
          "text": [
            "Number of common edges: 0\n",
            "Number of unique edges in past_edge_index: 8235\n",
            "Number of unique edges in curr_edge_index: 882\n"
          ]
        }
      ]
    },
    {
      "cell_type": "code",
      "source": [
        "#data = Data(x=x, edge_index=past_edge_index, node_id=node_ids, node_type=node_types)\n",
        "data = Data(x=x, edge_index=past_edge_index, node_id=node_ids)"
      ],
      "metadata": {
        "id": "klQSSTLKwuzM"
      },
      "execution_count": null,
      "outputs": []
    },
    {
      "cell_type": "markdown",
      "source": [
        "# GNN Model\n"
      ],
      "metadata": {
        "id": "qfqqmGjdRlQk"
      }
    },
    {
      "cell_type": "code",
      "source": [
        "#Define the GNN model\n",
        "class JobPredictionGNN(torch.nn.Module):\n",
        "    def __init__(self, in_channels, hidden_channels, out_channels):\n",
        "        super(JobPredictionGNN, self).__init__()\n",
        "        self.conv1 = SAGEConv(in_channels, int(hidden_channels*1.5))\n",
        "        self.conv2 = SAGEConv(int(hidden_channels*1.5), hidden_channels)\n",
        "        self.conv3 = SAGEConv(hidden_channels, out_channels)\n",
        "\n",
        "    def forward(self, x, edge_index):\n",
        "        x = F.relu6(self.conv1(x, edge_index))\n",
        "        x = F.relu6(self.conv2(x, edge_index))\n",
        "        x = self.conv3(x, edge_index)\n",
        "        return x\n",
        "\n",
        "    def predict_edges(self, x, edge_index_sample):\n",
        "        src, dst = edge_index_sample\n",
        "        embeddings_src, embeddings_dst = x[src], x[dst]\n",
        "        edge_logits = (embeddings_src * embeddings_dst).sum(dim=-1)\n",
        "        return torch.sigmoid(edge_logits)\n",
        "\n",
        "\n",
        "\n",
        "model = JobPredictionGNN(in_channels=136, hidden_channels=64, out_channels=32)\n",
        "optimizer = torch.optim.Adam(model.parameters(), lr=0.005)\n",
        "\n",
        "# Function to create negative samples\n",
        "def get_negative_samples(num_samples, num_nodes, curr_edge_set):\n",
        "    negative_samples = []\n",
        "    while len(negative_samples) < num_samples:\n",
        "        src, dst = torch.randint(0, num_nodes, (2,))\n",
        "        if (src.item(), dst.item()) not in curr_edge_set:\n",
        "            negative_samples.append([src.item(), dst.item()])\n",
        "    return torch.tensor(negative_samples).t()\n",
        "\n",
        "# Custom accuracy function\n",
        "def custom_accuracy(model, node_embeddings, curr_edge_index, neg_edge_index, thresh=0.5):\n",
        "    # Predict probabilities for positive edges\n",
        "    pos_edge_probs = model.predict_edges(node_embeddings, curr_edge_index)\n",
        "    pos_predictions = (pos_edge_probs > thresh).float()  # Positive edge predictions based on threshold\n",
        "\n",
        "    # Predict probabilities for negative edges\n",
        "    neg_edge_probs = model.predict_edges(node_embeddings, neg_edge_index)\n",
        "    neg_predictions = (neg_edge_probs > thresh).float()  # Negative edge predictions based on threshold\n",
        "\n",
        "    # Calculate correct predictions for positive edges (True Positives)\n",
        "    pos_correct = (pos_predictions == 1).sum().item()  # Predicted as edge exists where it actually does\n",
        "\n",
        "    # Calculate correct predictions for negative edges (True Negatives)\n",
        "    neg_correct = (neg_predictions == 0).sum().item()  # Predicted as no edge where it actually does not exist\n",
        "\n",
        "    # Total number of edges (positive + negative)\n",
        "    total_edges = curr_edge_index.size(1) + neg_edge_index.size(1)\n",
        "\n",
        "    # Overall accuracy\n",
        "    accuracy = (pos_correct + neg_correct) / total_edges\n",
        "    return accuracy\n",
        "\n",
        "def custom_f1_score(model, node_embeddings, curr_edge_index, neg_edge_index, thresh=0.5):\n",
        "    # Predict probabilities for positive and negative edges\n",
        "    pos_edge_probs = model.predict_edges(node_embeddings, curr_edge_index)\n",
        "    neg_edge_probs = model.predict_edges(node_embeddings, neg_edge_index)\n",
        "\n",
        "    # Get binary predictions based on threshold\n",
        "    pos_predictions = (pos_edge_probs > thresh).float()  # Positive edge predictions\n",
        "    neg_predictions = (neg_edge_probs > thresh).float()  # Negative edge predictions\n",
        "\n",
        "    # True Positives: correctly predicted positive edges\n",
        "    true_positives = (pos_predictions == 1).sum().item()\n",
        "\n",
        "    # False Positives: predicted positive where there is no edge\n",
        "    false_positives = (neg_predictions == 1).sum().item()\n",
        "\n",
        "    # False Negatives: predicted negative where there is an edge\n",
        "    false_negatives = (pos_predictions == 0).sum().item()\n",
        "\n",
        "    # Calculate precision, recall, and F1 score\n",
        "    precision = true_positives / (true_positives + false_positives) if (true_positives + false_positives) > 0 else 0\n",
        "    recall = true_positives / (true_positives + false_negatives) if (true_positives + false_negatives) > 0 else 0\n",
        "    f1_score = (2 * precision * recall) / (precision + recall) if (precision + recall) > 0 else 0\n",
        "\n",
        "    return f1_score\n",
        "\n",
        "def f1_score(model, node_embeddings, curr_edge_index, thresh=0.5):\n",
        "    # Predict probabilities for positive edges\n",
        "    pos_edge_probs = model.predict_edges(node_embeddings, curr_edge_index)\n",
        "\n",
        "    # Get binary predictions based on threshold for positive edges\n",
        "    pos_predictions = (pos_edge_probs > thresh).float()\n",
        "\n",
        "    # True Positives: correctly predicted positive edges\n",
        "    true_positives = (pos_predictions == 1).sum().item()\n",
        "\n",
        "    # False Negatives: predicted negative where there is an edge\n",
        "    false_negatives = (pos_predictions == 0).sum().item()\n",
        "\n",
        "    # Calculate precision, recall, and F1 score\n",
        "    precision = true_positives / (true_positives + false_negatives) if (true_positives + false_negatives) > 0 else 0\n",
        "    recall = true_positives / (true_positives + false_negatives) if (true_positives + false_negatives) > 0 else 0\n",
        "    f1 = (2 * precision * recall) / (precision + recall) if (precision + recall) > 0 else 0\n",
        "\n",
        "    return f1\n",
        "\n",
        "\n",
        "graph = data\n",
        "\n",
        "# Training loop with custom accuracy and negative sampling\n",
        "accs = []\n",
        "epocs = []\n",
        "f1_scores = []\n",
        "f1_custom_scores = []\n",
        "num_epochs = 100\n",
        "max_acc = 0\n",
        "for epoch in range(num_epochs):\n",
        "    epocs.append(epoch)\n",
        "    model.train()\n",
        "    optimizer.zero_grad()\n",
        "\n",
        "    # Forward pass\n",
        "    node_embeddings = model(graph.x, graph.edge_index)\n",
        "\n",
        "    # Prepare positive and negative samples\n",
        "    pos_edge_labels = torch.ones(curr_edge_index.size(1))  # Positive edges\n",
        "    curr_edges_set = set(map(tuple, curr_edge_index.t().tolist()))\n",
        "    neg_edge_index = get_negative_samples(curr_edge_index.size(1), graph.num_nodes, curr_edges_set)\n",
        "    neg_edge_labels = torch.zeros(neg_edge_index.size(1))  # Negative edges\n",
        "\n",
        "    # Combine positive and negative edges\n",
        "    all_edges = torch.cat([curr_edge_index, neg_edge_index], dim=1)\n",
        "    all_labels = torch.cat([pos_edge_labels, neg_edge_labels])\n",
        "\n",
        "    # Predict and calculate balanced loss\n",
        "    edge_probs = model.predict_edges(node_embeddings, all_edges)\n",
        "    loss = F.binary_cross_entropy(edge_probs, all_labels)\n",
        "    loss.backward()\n",
        "    optimizer.step()\n",
        "\n",
        "    # Calculate custom accuracy\n",
        "    if (epoch ) % 1 == 0:  # Evaluate every 10 epochs\n",
        "        model.eval()\n",
        "        with torch.no_grad():\n",
        "          neg_edge_index = get_negative_samples(graph.num_edge_types, graph.num_nodes, set(map(tuple, past_edge_index.t().tolist())))\n",
        "\n",
        "          # Calculate accuracy and F1 score based on the updated node embeddings\n",
        "          accuracy = custom_accuracy(model, node_embeddings, curr_edge_index, neg_edge_index, thresh=0.7)\n",
        "          custom_f1 = custom_f1_score(model, node_embeddings, curr_edge_index, neg_edge_index, thresh=0.7)\n",
        "          f1 = f1_score(model, node_embeddings, curr_edge_index, thresh=0.7)\n",
        "\n",
        "\n",
        "          # Track maximum accuracy\n",
        "          max_acc = max(max_acc, accuracy)\n",
        "          accs.append(accuracy)\n",
        "          f1_scores.append(f1)\n",
        "          f1_custom_scores.append(custom_f1)\n",
        "\n",
        "          # Print performance metrics\n",
        "          print(f\"Test Results - Accuracy: {accuracy:.4f}, F1 Score: {f1:.4f}, custom F1 score: {custom_f1:.4f}\")\n",
        "\n",
        "print(f\"Max Accuracy: {max_acc:.4f}\")"
      ],
      "metadata": {
        "colab": {
          "base_uri": "https://localhost:8080/"
        },
        "id": "wHsRVcYrRnUt",
        "outputId": "e319438e-745f-4527-eddb-0043580491b5"
      },
      "execution_count": null,
      "outputs": [
        {
          "output_type": "stream",
          "name": "stdout",
          "text": [
            "Test Results - Accuracy: 0.1665, F1 Score: 0.1655, custom F1 score: 0.2840\n",
            "Test Results - Accuracy: 0.1518, F1 Score: 0.1508, custom F1 score: 0.2621\n",
            "Test Results - Accuracy: 0.2333, F1 Score: 0.2324, custom F1 score: 0.3772\n",
            "Test Results - Accuracy: 0.5210, F1 Score: 0.5204, custom F1 score: 0.6846\n",
            "Test Results - Accuracy: 0.2888, F1 Score: 0.2880, custom F1 score: 0.4472\n",
            "Test Results - Accuracy: 0.2276, F1 Score: 0.2268, custom F1 score: 0.3697\n",
            "Test Results - Accuracy: 0.4858, F1 Score: 0.4853, custom F1 score: 0.6534\n",
            "Test Results - Accuracy: 0.6308, F1 Score: 0.6304, custom F1 score: 0.7733\n",
            "Test Results - Accuracy: 0.5810, F1 Score: 0.5805, custom F1 score: 0.7346\n",
            "Test Results - Accuracy: 0.4689, F1 Score: 0.4683, custom F1 score: 0.6378\n",
            "Test Results - Accuracy: 0.4202, F1 Score: 0.4195, custom F1 score: 0.5911\n",
            "Test Results - Accuracy: 0.4541, F1 Score: 0.4535, custom F1 score: 0.6240\n",
            "Test Results - Accuracy: 0.5572, F1 Score: 0.5567, custom F1 score: 0.7152\n",
            "Test Results - Accuracy: 0.6274, F1 Score: 0.6270, custom F1 score: 0.7707\n",
            "Test Results - Accuracy: 0.6161, F1 Score: 0.6156, custom F1 score: 0.7621\n",
            "Test Results - Accuracy: 0.5549, F1 Score: 0.5544, custom F1 score: 0.7133\n",
            "Test Results - Accuracy: 0.5096, F1 Score: 0.5091, custom F1 score: 0.6747\n",
            "Test Results - Accuracy: 0.5062, F1 Score: 0.5057, custom F1 score: 0.6717\n",
            "Test Results - Accuracy: 0.5300, F1 Score: 0.5295, custom F1 score: 0.6924\n",
            "Test Results - Accuracy: 0.6093, F1 Score: 0.6088, custom F1 score: 0.7569\n",
            "Test Results - Accuracy: 0.7157, F1 Score: 0.7154, custom F1 score: 0.8341\n",
            "Test Results - Accuracy: 0.7101, F1 Score: 0.7098, custom F1 score: 0.8302\n",
            "Test Results - Accuracy: 0.6670, F1 Score: 0.6678, custom F1 score: 0.8003\n",
            "Test Results - Accuracy: 0.6478, F1 Score: 0.6474, custom F1 score: 0.7860\n",
            "Test Results - Accuracy: 0.6852, F1 Score: 0.6848, custom F1 score: 0.8129\n",
            "Test Results - Accuracy: 0.7203, F1 Score: 0.7200, custom F1 score: 0.8372\n",
            "Test Results - Accuracy: 0.7622, F1 Score: 0.7630, custom F1 score: 0.8650\n",
            "Test Results - Accuracy: 0.7746, F1 Score: 0.7744, custom F1 score: 0.8728\n",
            "Test Results - Accuracy: 0.7169, F1 Score: 0.7166, custom F1 score: 0.8349\n",
            "Test Results - Accuracy: 0.6569, F1 Score: 0.6565, custom F1 score: 0.7926\n",
            "Test Results - Accuracy: 0.6931, F1 Score: 0.6927, custom F1 score: 0.8185\n",
            "Test Results - Accuracy: 0.7701, F1 Score: 0.7698, custom F1 score: 0.8700\n",
            "Test Results - Accuracy: 0.8018, F1 Score: 0.8016, custom F1 score: 0.8899\n",
            "Test Results - Accuracy: 0.8063, F1 Score: 0.8061, custom F1 score: 0.8927\n",
            "Test Results - Accuracy: 0.7973, F1 Score: 0.7971, custom F1 score: 0.8871\n",
            "Test Results - Accuracy: 0.7644, F1 Score: 0.7642, custom F1 score: 0.8663\n",
            "Test Results - Accuracy: 0.7407, F1 Score: 0.7404, custom F1 score: 0.8508\n",
            "Test Results - Accuracy: 0.7712, F1 Score: 0.7710, custom F1 score: 0.8707\n",
            "Test Results - Accuracy: 0.7984, F1 Score: 0.7982, custom F1 score: 0.8878\n",
            "Test Results - Accuracy: 0.8097, F1 Score: 0.8095, custom F1 score: 0.8947\n",
            "Test Results - Accuracy: 0.8063, F1 Score: 0.8061, custom F1 score: 0.8927\n",
            "Test Results - Accuracy: 0.7814, F1 Score: 0.7812, custom F1 score: 0.8771\n",
            "Test Results - Accuracy: 0.7803, F1 Score: 0.7800, custom F1 score: 0.8764\n",
            "Test Results - Accuracy: 0.7916, F1 Score: 0.7914, custom F1 score: 0.8835\n",
            "Test Results - Accuracy: 0.7973, F1 Score: 0.7971, custom F1 score: 0.8871\n",
            "Test Results - Accuracy: 0.7984, F1 Score: 0.7982, custom F1 score: 0.8878\n",
            "Test Results - Accuracy: 0.8018, F1 Score: 0.8027, custom F1 score: 0.8900\n",
            "Test Results - Accuracy: 0.7905, F1 Score: 0.7902, custom F1 score: 0.8828\n",
            "Test Results - Accuracy: 0.8052, F1 Score: 0.8050, custom F1 score: 0.8920\n",
            "Test Results - Accuracy: 0.8245, F1 Score: 0.8243, custom F1 score: 0.9037\n",
            "Test Results - Accuracy: 0.8143, F1 Score: 0.8141, custom F1 score: 0.8975\n",
            "Test Results - Accuracy: 0.8041, F1 Score: 0.8039, custom F1 score: 0.8913\n",
            "Test Results - Accuracy: 0.8143, F1 Score: 0.8141, custom F1 score: 0.8975\n",
            "Test Results - Accuracy: 0.8211, F1 Score: 0.8209, custom F1 score: 0.9016\n",
            "Test Results - Accuracy: 0.8177, F1 Score: 0.8175, custom F1 score: 0.8996\n",
            "Test Results - Accuracy: 0.8120, F1 Score: 0.8118, custom F1 score: 0.8961\n",
            "Test Results - Accuracy: 0.8154, F1 Score: 0.8152, custom F1 score: 0.8982\n",
            "Test Results - Accuracy: 0.8313, F1 Score: 0.8311, custom F1 score: 0.9077\n",
            "Test Results - Accuracy: 0.8301, F1 Score: 0.8311, custom F1 score: 0.9072\n",
            "Test Results - Accuracy: 0.8063, F1 Score: 0.8061, custom F1 score: 0.8927\n",
            "Test Results - Accuracy: 0.8143, F1 Score: 0.8141, custom F1 score: 0.8975\n",
            "Test Results - Accuracy: 0.8426, F1 Score: 0.8424, custom F1 score: 0.9145\n",
            "Test Results - Accuracy: 0.8505, F1 Score: 0.8503, custom F1 score: 0.9191\n",
            "Test Results - Accuracy: 0.8347, F1 Score: 0.8345, custom F1 score: 0.9098\n",
            "Test Results - Accuracy: 0.8573, F1 Score: 0.8571, custom F1 score: 0.9231\n",
            "Test Results - Accuracy: 0.8584, F1 Score: 0.8583, custom F1 score: 0.9237\n",
            "Test Results - Accuracy: 0.8720, F1 Score: 0.8719, custom F1 score: 0.9316\n",
            "Test Results - Accuracy: 0.8403, F1 Score: 0.8401, custom F1 score: 0.9131\n",
            "Test Results - Accuracy: 0.8414, F1 Score: 0.8413, custom F1 score: 0.9138\n",
            "Test Results - Accuracy: 0.8698, F1 Score: 0.8696, custom F1 score: 0.9303\n",
            "Test Results - Accuracy: 0.8845, F1 Score: 0.8844, custom F1 score: 0.9386\n",
            "Test Results - Accuracy: 0.8686, F1 Score: 0.8685, custom F1 score: 0.9296\n",
            "Test Results - Accuracy: 0.8890, F1 Score: 0.8889, custom F1 score: 0.9412\n",
            "Test Results - Accuracy: 0.8947, F1 Score: 0.8946, custom F1 score: 0.9443\n",
            "Test Results - Accuracy: 0.8777, F1 Score: 0.8776, custom F1 score: 0.9348\n",
            "Test Results - Accuracy: 0.8664, F1 Score: 0.8662, custom F1 score: 0.9283\n",
            "Test Results - Accuracy: 0.8981, F1 Score: 0.8980, custom F1 score: 0.9462\n",
            "Test Results - Accuracy: 0.9422, F1 Score: 0.9422, custom F1 score: 0.9702\n",
            "Test Results - Accuracy: 0.8981, F1 Score: 0.8980, custom F1 score: 0.9462\n",
            "Test Results - Accuracy: 0.8924, F1 Score: 0.8923, custom F1 score: 0.9431\n",
            "Test Results - Accuracy: 0.9185, F1 Score: 0.9184, custom F1 score: 0.9574\n",
            "Test Results - Accuracy: 0.9207, F1 Score: 0.9206, custom F1 score: 0.9587\n",
            "Test Results - Accuracy: 0.9287, F1 Score: 0.9286, custom F1 score: 0.9630\n",
            "Test Results - Accuracy: 0.9173, F1 Score: 0.9172, custom F1 score: 0.9568\n",
            "Test Results - Accuracy: 0.9049, F1 Score: 0.9048, custom F1 score: 0.9500\n",
            "Test Results - Accuracy: 0.9230, F1 Score: 0.9229, custom F1 score: 0.9599\n",
            "Test Results - Accuracy: 0.9241, F1 Score: 0.9240, custom F1 score: 0.9605\n",
            "Test Results - Accuracy: 0.8947, F1 Score: 0.8946, custom F1 score: 0.9443\n",
            "Test Results - Accuracy: 0.9219, F1 Score: 0.9218, custom F1 score: 0.9593\n",
            "Test Results - Accuracy: 0.9117, F1 Score: 0.9116, custom F1 score: 0.9537\n",
            "Test Results - Accuracy: 0.9083, F1 Score: 0.9082, custom F1 score: 0.9519\n",
            "Test Results - Accuracy: 0.9343, F1 Score: 0.9342, custom F1 score: 0.9660\n",
            "Test Results - Accuracy: 0.9185, F1 Score: 0.9184, custom F1 score: 0.9574\n",
            "Test Results - Accuracy: 0.9139, F1 Score: 0.9138, custom F1 score: 0.9550\n",
            "Test Results - Accuracy: 0.9151, F1 Score: 0.9150, custom F1 score: 0.9556\n",
            "Test Results - Accuracy: 0.9354, F1 Score: 0.9354, custom F1 score: 0.9666\n",
            "Test Results - Accuracy: 0.9400, F1 Score: 0.9399, custom F1 score: 0.9690\n",
            "Test Results - Accuracy: 0.9173, F1 Score: 0.9172, custom F1 score: 0.9568\n",
            "Test Results - Accuracy: 0.8924, F1 Score: 0.8923, custom F1 score: 0.9431\n",
            "Test Results - Accuracy: 0.9400, F1 Score: 0.9399, custom F1 score: 0.9690\n",
            "Max Accuracy: 0.9422\n"
          ]
        }
      ]
    },
    {
      "cell_type": "code",
      "source": [
        "import matplotlib.pyplot as plt\n",
        "\n",
        "# Plotting\n",
        "plt.figure(figsize=(10, 6))\n",
        "plt.plot(epocs, accs, label=\"Accuracy\", color=\"green\")\n",
        "plt.plot(f1_scores, label='F1 Score', color='b')\n",
        "plt.plot(f1_custom_scores, label='Custom F1 Score', color='m')\n",
        "plt.xlabel('Epochs')\n",
        "plt.ylabel('Values')\n",
        "plt.title('Accuracy, F1 Score, and Custom F1 Score over Epochs')\n",
        "plt.legend()\n",
        "plt.grid(True)\n",
        "plt.show()\n"
      ],
      "metadata": {
        "colab": {
          "base_uri": "https://localhost:8080/",
          "height": 584
        },
        "id": "YLCgvyb_wa9l",
        "outputId": "7d5bbdac-f13a-428d-e154-0b186eca03d9"
      },
      "execution_count": null,
      "outputs": [
        {
          "output_type": "display_data",
          "data": {
            "text/plain": [
              "<Figure size 1000x600 with 1 Axes>"
            ],
            "image/png": "[encoded data removed]"
          },
          "metadata": {}
        }
      ]
    },
    {
      "cell_type": "markdown",
      "source": [
        "**Potential more complicated model**\n",
        "\n",
        "note: we didnt get better results"
      ],
      "metadata": {
        "id": "cpZ3synUFLZM"
      }
    },
    {
      "cell_type": "code",
      "source": [
        "# class JobPredictionGNN(torch.nn.Module):\n",
        "#     def __init__(self, in_channels, hidden_channels, out_channels):\n",
        "#         super(JobPredictionGNN, self).__init__()\n",
        "#         self.conv1 = SAGEConv(in_channels, int(hidden_channels*1.5), normalize=True)\n",
        "#         self.conv2 = SAGEConv(int(hidden_channels*1.5), hidden_channels, normalize=True)\n",
        "#         self.conv3 = SAGEConv(hidden_channels, out_channels, normalize=True)\n",
        "\n",
        "#         self.dropout = 0.3\n",
        "#         self.batch_norm1 = torch.nn.BatchNorm1d(int(hidden_channels*1.5))\n",
        "#         self.batch_norm2 = torch.nn.BatchNorm1d(hidden_channels)\n",
        "\n",
        "#         # Linear layers to match dimensions for residual connection at each layer\n",
        "#         self.residual_projection1 = torch.nn.Linear(in_channels, int(hidden_channels*1.5))\n",
        "#         self.residual_projection2 = torch.nn.Linear(int(hidden_channels*1.5), hidden_channels)\n",
        "\n",
        "#     def forward(self, x, edge_index):\n",
        "#         # First layer residual\n",
        "#         residual = self.residual_projection1(x)  # Project residual to match conv1 output shape\n",
        "\n",
        "#         # First convolution\n",
        "#         x = self.conv1(x, edge_index)\n",
        "#         x = F.sigmoid(self.batch_norm1(x))\n",
        "#         x = F.dropout(x, p=self.dropout, training=self.training)\n",
        "#         x = x + residual  # Adding residual with matching shape\n",
        "\n",
        "#         # Second layer residual\n",
        "#         residual = self.residual_projection2(x)  # Project residual to match conv2 output shape\n",
        "\n",
        "#         # Second convolution\n",
        "#         x = self.conv2(x, edge_index)\n",
        "#         x = F.relu6(self.batch_norm2(x))\n",
        "#         x = F.dropout(x, p=self.dropout, training=self.training)\n",
        "#         x = x + residual  # Adding residual with matching shape\n",
        "\n",
        "#         # Output layer (no residuals after this layer)\n",
        "#         x = self.conv3(x, edge_index)\n",
        "\n",
        "#         return x\n",
        "#     def predict_edges(self, x, edge_index_sample):\n",
        "#         src, dst = edge_index_sample\n",
        "#         embeddings_src, embeddings_dst = x[src], x[dst]\n",
        "#         edge_logits = (embeddings_src * embeddings_dst).sum(dim=-1)\n",
        "#         return torch.sigmoid(edge_logits)"
      ],
      "metadata": {
        "id": "3-vaDcrHFQjZ"
      },
      "execution_count": null,
      "outputs": []
    }
  ],
  "metadata": {
    "colab": {
      "provenance": [],
      "gpuType": "T4"
    },
    "kernelspec": {
      "display_name": "Python 3",
      "name": "python3"
    },
    "language_info": {
      "name": "python"
    },
    "accelerator": "GPU"
  },
  "nbformat": 4,
  "nbformat_minor": 0
}