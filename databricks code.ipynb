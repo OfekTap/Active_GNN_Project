{
 "cells": [
  {
   "cell_type": "markdown",
   "metadata": {
    "application/vnd.databricks.v1+cell": {
     "cellMetadata": {
      "byteLimit": 2048000,
      "rowLimit": 10000
     },
     "inputWidgets": {},
     "nuid": "16e5f5eb-1416-4fa3-b501-fb2973c79383",
     "showTitle": false,
     "tableResultSettingsMap": {},
     "title": ""
    }
   },
   "source": [
    "**Imports**"
   ]
  },
  {
   "cell_type": "code",
   "execution_count": 0,
   "metadata": {
    "application/vnd.databricks.v1+cell": {
     "cellMetadata": {
      "byteLimit": 2048000,
      "rowLimit": 10000
     },
     "inputWidgets": {},
     "nuid": "f7a6ab8e-1121-4226-b8ad-f6cb4027a473",
     "showTitle": false,
     "tableResultSettingsMap": {},
     "title": ""
    }
   },
   "outputs": [],
   "source": [
    "from pyspark.sql.types import *\n",
    "import pyspark\n",
    "from pyspark.sql import SparkSession\n",
    "from pyspark.sql import functions as F\n",
    "from pyspark.sql.functions import col, expr, when, array_contains, size, desc, asc, collect_set, explode, collect_list\n",
    "from pyspark.sql.types import ArrayType, StringType\n",
    "\n",
    "\n",
    "spark = SparkSession.builder.getOrCreate()"
   ]
  },
  {
   "cell_type": "code",
   "execution_count": 0,
   "metadata": {
    "application/vnd.databricks.v1+cell": {
     "cellMetadata": {
      "byteLimit": 2048000,
      "rowLimit": 10000
     },
     "inputWidgets": {},
     "nuid": "0944d33f-b18b-4cb8-8856-4d12ba8508b6",
     "showTitle": false,
     "tableResultSettingsMap": {},
     "title": ""
    }
   },
   "outputs": [],
   "source": [
    "import sparknlp                                                                                                              \n",
    "from sparknlp.base import DocumentAssembler\n",
    "from sparknlp.annotator import Tokenizer, AlbertEmbeddings, BertEmbeddings, BertSentenceEmbeddings\n",
    "from pyspark.sql.functions import concat_ws\n",
    "from pyspark.ml import Pipeline\n",
    "\n",
    "\n",
    "print(sparknlp.version())"
   ]
  },
  {
   "cell_type": "markdown",
   "metadata": {
    "application/vnd.databricks.v1+cell": {
     "cellMetadata": {
      "byteLimit": 2048000,
      "rowLimit": 10000
     },
     "inputWidgets": {},
     "nuid": "a241bf26-e3ab-429a-b5a2-fd719675071f",
     "showTitle": false,
     "tableResultSettingsMap": {},
     "title": ""
    }
   },
   "source": [
    "**Load data**"
   ]
  },
  {
   "cell_type": "code",
   "execution_count": 0,
   "metadata": {
    "application/vnd.databricks.v1+cell": {
     "cellMetadata": {
      "byteLimit": 2048000,
      "rowLimit": 10000
     },
     "inputWidgets": {},
     "nuid": "932ac2fc-37a1-4d50-a239-43f2b0adcf48",
     "showTitle": false,
     "tableResultSettingsMap": {},
     "title": ""
    }
   },
   "outputs": [],
   "source": [
    "profiles = spark.read.parquet('/linkedin/people')\n",
    "companies = spark.read.parquet('/linkedin/companies')"
   ]
  },
  {
   "cell_type": "markdown",
   "metadata": {
    "application/vnd.databricks.v1+cell": {
     "cellMetadata": {
      "byteLimit": 2048000,
      "rowLimit": 10000
     },
     "inputWidgets": {},
     "nuid": "a9af0ac3-c5a4-48f8-b95a-20edb5051aee",
     "showTitle": false,
     "tableResultSettingsMap": {},
     "title": ""
    }
   },
   "source": [
    "**Info about the data**"
   ]
  },
  {
   "cell_type": "code",
   "execution_count": 0,
   "metadata": {
    "application/vnd.databricks.v1+cell": {
     "cellMetadata": {
      "byteLimit": 2048000,
      "rowLimit": 10000
     },
     "inputWidgets": {},
     "nuid": "da759240-1bc8-4388-9994-f83b760f2e8d",
     "showTitle": false,
     "tableResultSettingsMap": {},
     "title": ""
    }
   },
   "outputs": [],
   "source": [
    "profiles.count()"
   ]
  },
  {
   "cell_type": "code",
   "execution_count": 0,
   "metadata": {
    "application/vnd.databricks.v1+cell": {
     "cellMetadata": {
      "byteLimit": 2048000,
      "rowLimit": 10000
     },
     "inputWidgets": {},
     "nuid": "764b3a89-222c-439b-b75d-6705c15f0d5d",
     "showTitle": false,
     "tableResultSettingsMap": {},
     "title": ""
    }
   },
   "outputs": [],
   "source": [
    "companies.count()"
   ]
  },
  {
   "cell_type": "code",
   "execution_count": 0,
   "metadata": {
    "application/vnd.databricks.v1+cell": {
     "cellMetadata": {
      "byteLimit": 2048000,
      "rowLimit": 10000
     },
     "inputWidgets": {},
     "nuid": "5409dc1e-d409-48c9-be29-85a855172c60",
     "showTitle": false,
     "tableResultSettingsMap": {},
     "title": ""
    }
   },
   "outputs": [],
   "source": [
    "matched_profiles = profiles.join(companies, profiles[\"current_company:name\"] == companies[\"name\"], how=\"inner\")\n",
    "matched_profiles.count()"
   ]
  },
  {
   "cell_type": "code",
   "execution_count": 0,
   "metadata": {
    "application/vnd.databricks.v1+cell": {
     "cellMetadata": {
      "byteLimit": 2048000,
      "rowLimit": 10000
     },
     "inputWidgets": {},
     "nuid": "2ed79aed-7081-4ae4-905b-d6c7722e948a",
     "showTitle": false,
     "tableResultSettingsMap": {},
     "title": ""
    }
   },
   "outputs": [],
   "source": [
    "profiles.columns"
   ]
  },
  {
   "cell_type": "code",
   "execution_count": 0,
   "metadata": {
    "application/vnd.databricks.v1+cell": {
     "cellMetadata": {
      "byteLimit": 2048000,
      "rowLimit": 10000
     },
     "inputWidgets": {},
     "nuid": "7aca79e2-91d8-4c31-a8c0-11dfaf6cf092",
     "showTitle": false,
     "tableResultSettingsMap": {},
     "title": ""
    }
   },
   "outputs": [],
   "source": [
    "companies.columns"
   ]
  },
  {
   "cell_type": "markdown",
   "metadata": {
    "application/vnd.databricks.v1+cell": {
     "cellMetadata": {
      "byteLimit": 2048000,
      "rowLimit": 10000
     },
     "inputWidgets": {},
     "nuid": "b6e32e61-89ec-4e5e-a3a3-d790a7af33ea",
     "showTitle": false,
     "tableResultSettingsMap": {},
     "title": ""
    }
   },
   "source": [
    "**Run the cell below for current jobs DF:**"
   ]
  },
  {
   "cell_type": "code",
   "execution_count": 0,
   "metadata": {
    "application/vnd.databricks.v1+cell": {
     "cellMetadata": {
      "byteLimit": 2048000,
      "rowLimit": 10000
     },
     "inputWidgets": {},
     "nuid": "198b210d-2475-468a-aa7b-74614d076567",
     "showTitle": false,
     "tableResultSettingsMap": {},
     "title": ""
    }
   },
   "outputs": [],
   "source": [
    "matched_profiles = profiles.join(companies, profiles[\"current_company:name\"] == companies[\"name\"], how=\"inner\")\n",
    "rel_profiles = matched_profiles.select(profiles[\"*\"])\n",
    "rel_profiles = rel_profiles.withColumnRenamed(\"current_company:name\", \"companies\")\n",
    "rel_profiles = rel_profiles.withColumnRenamed(\"сourses\", \"courses\")\n",
    "rel_profiles = rel_profiles.filter(size(rel_profiles['courses'])>0)\n",
    "rel_profiles = rel_profiles.filter(size(rel_profiles['experience'])>0)\n",
    "rel_profiles = rel_profiles.filter(size(rel_profiles['education'])>0)                      \n",
    "chosen_rel_profiles = rel_profiles.select([\"id\", \"education\", \"courses\", \"experience\", \"companies\"]).limit(1000)\n",
    "chosen_rel_profiles.dropna(subset=['courses'])\n",
    "chosen_rel_profiles.dropna(subset=['education'])\n",
    "chosen_rel_profiles.dropna(subset=['experience'])\n",
    "chosen_rel_profiles = chosen_rel_profiles.dropDuplicates([\"id\"])\n",
    "chosen_rel_profiles.printSchema()"
   ]
  },
  {
   "cell_type": "markdown",
   "metadata": {
    "application/vnd.databricks.v1+cell": {
     "cellMetadata": {
      "byteLimit": 2048000,
      "rowLimit": 10000
     },
     "inputWidgets": {},
     "nuid": "4480ffe9-3b58-42a8-a2d6-d460c440e0bc",
     "showTitle": false,
     "tableResultSettingsMap": {},
     "title": ""
    }
   },
   "source": [
    "**Run the cell below for pasts job DF:**"
   ]
  },
  {
   "cell_type": "code",
   "execution_count": 0,
   "metadata": {
    "application/vnd.databricks.v1+cell": {
     "cellMetadata": {
      "byteLimit": 2048000,
      "rowLimit": 10000
     },
     "inputWidgets": {},
     "nuid": "d60371d9-bd96-4b8c-b470-479504fc33b1",
     "showTitle": false,
     "tableResultSettingsMap": {},
     "title": ""
    }
   },
   "outputs": [],
   "source": [
    "# Explode the 'experience' array and select only the 'company' field\n",
    "companies_df = profiles.select(\n",
    "    \"id\", \n",
    "    \"current_company:name\",\n",
    "    explode(\"experience\").alias(\"experience_exploded\")\n",
    ").select(\n",
    "    \"id\",\n",
    "    \"current_company:name\",\n",
    "    col(\"experience_exploded.company\").alias(\"company\")\n",
    ")\n",
    "reshaped_df = companies_df.select(\n",
    "    \"id\",\n",
    "    expr(\"stack(2, 'current_company:name', `current_company:name`, 'company', company) as (CompanyType, companies)\")\n",
    ").select(\"id\", \"companies\")\n",
    "\n",
    "reshaped_df = reshaped_df.dropna()\n",
    "reshaped_df = reshaped_df.dropDuplicates()\n",
    "matched_profiles = reshaped_df.join(companies, reshaped_df[\"companies\"] == companies[\"name\"], how=\"inner\")\n",
    "reshaped_profiles = matched_profiles.select(reshaped_df[\"*\"])\n",
    "rel_profiles = reshaped_profiles.join(profiles, reshaped_profiles[\"id\"] == profiles[\"id\"], how=\"inner\").drop(profiles[\"id\"])\n",
    "rel_profiles = rel_profiles.withColumnRenamed(\"сourses\", \"courses\")\n",
    "rel_profiles = rel_profiles.filter(size(rel_profiles['courses'])>0)\n",
    "rel_profiles = rel_profiles.filter(size(rel_profiles['experience'])>0)\n",
    "rel_profiles = rel_profiles.filter(size(rel_profiles['education'])>0)                      \n",
    "chosen_rel_profiles = rel_profiles.select([\"id\", \"companies\", \"education\", \"courses\", \"experience\"])\n",
    "chosen_rel_profiles.dropna(subset=['courses'])\n",
    "chosen_rel_profiles.dropna(subset=['education'])\n",
    "chosen_rel_profiles.dropna(subset=['experience'])\n",
    "chosen_rel_profiles = chosen_rel_profiles.dropDuplicates([\"id\", \"companies\"])\n",
    "chosen_rel_profiles.printSchema()"
   ]
  },
  {
   "cell_type": "markdown",
   "metadata": {
    "application/vnd.databricks.v1+cell": {
     "cellMetadata": {
      "byteLimit": 2048000,
      "rowLimit": 10000
     },
     "inputWidgets": {},
     "nuid": "632ee2fb-27f9-4fb8-8ed1-dfa25e12cdc6",
     "showTitle": false,
     "tableResultSettingsMap": {},
     "title": ""
    }
   },
   "source": [
    "# **Profiles and companies augmentation:**"
   ]
  },
  {
   "cell_type": "markdown",
   "metadata": {
    "application/vnd.databricks.v1+cell": {
     "cellMetadata": {
      "byteLimit": 2048000,
      "rowLimit": 10000
     },
     "inputWidgets": {},
     "nuid": "24c3475b-0f82-4272-b31f-db1dc48555e0",
     "showTitle": false,
     "tableResultSettingsMap": {},
     "title": ""
    }
   },
   "source": [
    "**This is for the profiles part:**"
   ]
  },
  {
   "cell_type": "markdown",
   "metadata": {
    "application/vnd.databricks.v1+cell": {
     "cellMetadata": {
      "byteLimit": 2048000,
      "rowLimit": 10000
     },
     "inputWidgets": {},
     "nuid": "df49c9df-4048-411f-997d-58d9f228fda6",
     "showTitle": false,
     "tableResultSettingsMap": {},
     "title": ""
    }
   },
   "source": [
    "**process courses**"
   ]
  },
  {
   "cell_type": "markdown",
   "metadata": {
    "application/vnd.databricks.v1+cell": {
     "cellMetadata": {
      "byteLimit": 2048000,
      "rowLimit": 10000
     },
     "inputWidgets": {},
     "nuid": "b461848f-d672-4a22-adeb-fe308afa0acc",
     "showTitle": false,
     "tableResultSettingsMap": {},
     "title": ""
    }
   },
   "source": [
    "This code extracts and displays unique course titles from the courses array in chosen_rel_profiles"
   ]
  },
  {
   "cell_type": "code",
   "execution_count": 0,
   "metadata": {
    "application/vnd.databricks.v1+cell": {
     "cellMetadata": {
      "byteLimit": 2048000,
      "rowLimit": 10000
     },
     "inputWidgets": {},
     "nuid": "a0bacba3-98be-4ece-9ce2-4376fc9d8c8d",
     "showTitle": false,
     "tableResultSettingsMap": {},
     "title": ""
    }
   },
   "outputs": [],
   "source": [
    "course_transform = chosen_rel_profiles.withColumn(\n",
    "    \"courses\", \n",
    "    F.expr(\"transform(courses, x -> x.title)\")\n",
    ")\n",
    "\n",
    "# Show the result\n",
    "course_transform.select(\"courses\").distinct().show(truncate=False)"
   ]
  },
  {
   "cell_type": "markdown",
   "metadata": {
    "application/vnd.databricks.v1+cell": {
     "cellMetadata": {
      "byteLimit": 2048000,
      "rowLimit": 10000
     },
     "inputWidgets": {},
     "nuid": "d6868e08-6716-4d8b-a88e-e511864569f5",
     "showTitle": false,
     "tableResultSettingsMap": {},
     "title": ""
    }
   },
   "source": [
    "**process education level**"
   ]
  },
  {
   "cell_type": "markdown",
   "metadata": {
    "application/vnd.databricks.v1+cell": {
     "cellMetadata": {
      "byteLimit": 2048000,
      "rowLimit": 10000
     },
     "inputWidgets": {},
     "nuid": "274faca5-910d-4a6e-95b7-f302049be4e7",
     "showTitle": false,
     "tableResultSettingsMap": {},
     "title": ""
    }
   },
   "source": [
    "This code extracts unique degree names from the education array in course_transform and displays them in education_degrees"
   ]
  },
  {
   "cell_type": "code",
   "execution_count": 0,
   "metadata": {
    "application/vnd.databricks.v1+cell": {
     "cellMetadata": {
      "byteLimit": 2048000,
      "rowLimit": 10000
     },
     "inputWidgets": {},
     "nuid": "7a0309fe-9ea7-45eb-bfd9-0760940e8c53",
     "showTitle": false,
     "tableResultSettingsMap": {},
     "title": ""
    }
   },
   "outputs": [],
   "source": [
    "deg_transform = course_transform.withColumn(\n",
    "    \"education_degrees\",\n",
    "    F.expr(\"transform(education, x -> x.degree)\")\n",
    ")\n",
    "\n",
    "# Drop the original 'education' column if you only want the 'degree' field\n",
    "deg_transform = deg_transform.drop(\"education\")\n",
    "\n",
    "# Show the updated DataFrame\n",
    "deg_transform.select(\"education_degrees\").distinct().show(truncate=False)"
   ]
  },
  {
   "cell_type": "markdown",
   "metadata": {
    "application/vnd.databricks.v1+cell": {
     "cellMetadata": {
      "byteLimit": 2048000,
      "rowLimit": 10000
     },
     "inputWidgets": {},
     "nuid": "f25494e7-bd79-487c-b921-535ff6b16abe",
     "showTitle": false,
     "tableResultSettingsMap": {},
     "title": ""
    }
   },
   "source": [
    "This code assigns a numeric feature, deg_feat, based on the highest education level found in education_degrees:\n",
    "\n",
    "5 for Postdoc\n",
    "4 for Ph.D.\n",
    "3 for Master's\n",
    "2 for Bachelor's\n",
    "0 if there are no degrees or only \"N/A\" values\n",
    "1 for all other cases\n",
    "It then displays education_degrees with the deg_feat scores"
   ]
  },
  {
   "cell_type": "code",
   "execution_count": 0,
   "metadata": {
    "application/vnd.databricks.v1+cell": {
     "cellMetadata": {
      "byteLimit": 2048000,
      "rowLimit": 10000
     },
     "inputWidgets": {},
     "nuid": "78fea569-e908-4227-8c0d-8e09463ba4b8",
     "showTitle": false,
     "tableResultSettingsMap": {},
     "title": ""
    }
   },
   "outputs": [],
   "source": [
    "deg_df = deg_transform.withColumn(\n",
    "    \"deg_feat\",\n",
    "    when(\n",
    "        size(expr(\"filter(education_degrees, degree -> degree LIKE '%Postdoc%' OR degree LIKE '%postdoc%')\")) > 0, 5\n",
    "    ).when(\n",
    "        size(expr(\"filter(education_degrees, degree -> degree LIKE '%PHD%' OR degree LIKE '%Ph.D.%')\")) > 0, 4\n",
    "    ).when(\n",
    "        size(expr(\"filter(education_degrees, degree -> degree LIKE '%Masters%' OR degree LIKE '%masters%' OR degree LIKE '%MS%' OR degree LIKE '%MSC%' OR degree LIKE '%Master%' OR degree LIKE '%Master''s%' OR degree LIKE '%BEME%')\")) > 0, 3\n",
    "    ).when(\n",
    "        size(expr(\"filter(education_degrees, degree -> degree LIKE '%bachelor%' OR degree LIKE '%bachelors%' OR degree LIKE '%bachlor%' OR degree LIKE '%BA%' OR degree LIKE '%BS%' OR degree LIKE '%BCa%' OR degree LIKE '%B.A.%')\")) > 0, 2\n",
    "    ).when(\n",
    "        expr(\"education_degrees IS NULL OR size(filter(education_degrees, degree -> degree IS NOT NULL AND degree != 'N/A')) = 0\"), 0\n",
    "    ).otherwise(1)\n",
    ")\n",
    "\n",
    "deg_df.select(\"education_degrees\", \"deg_feat\").show(truncate=False)"
   ]
  },
  {
   "cell_type": "markdown",
   "metadata": {
    "application/vnd.databricks.v1+cell": {
     "cellMetadata": {
      "byteLimit": 2048000,
      "rowLimit": 10000
     },
     "inputWidgets": {},
     "nuid": "007d13f9-fab3-467a-981d-9e9c1a5dca38",
     "showTitle": false,
     "tableResultSettingsMap": {},
     "title": ""
    }
   },
   "source": [
    "**process experience count**"
   ]
  },
  {
   "cell_type": "markdown",
   "metadata": {
    "application/vnd.databricks.v1+cell": {
     "cellMetadata": {
      "byteLimit": 2048000,
      "rowLimit": 10000
     },
     "inputWidgets": {},
     "nuid": "d66b31b0-f8e9-4585-8cf0-ff3d3b37b2fe",
     "showTitle": false,
     "tableResultSettingsMap": {},
     "title": ""
    }
   },
   "source": [
    "This code extracts unique job titles per person, filters out nulls and “retired,” and counts each person’s unique titles (jobs worked at)"
   ]
  },
  {
   "cell_type": "code",
   "execution_count": 0,
   "metadata": {
    "application/vnd.databricks.v1+cell": {
     "cellMetadata": {
      "byteLimit": 2048000,
      "rowLimit": 10000
     },
     "inputWidgets": {},
     "nuid": "a15a448e-9446-4f34-9404-3f36480b2320",
     "showTitle": false,
     "tableResultSettingsMap": {},
     "title": ""
    }
   },
   "outputs": [],
   "source": [
    "exploded_df = deg_df.withColumn(\"exp\", explode(col(\"experience\")))\n",
    "\n",
    "# Step 2: Filter the DataFrame to keep only valid titles\n",
    "filtered_df = exploded_df.filter(\n",
    "    (col(\"exp.title\").isNotNull()) & \n",
    "    (col(\"exp.title\") != \"retired\")\n",
    ")\n",
    "\n",
    "# Step 3: Collect unique titles\n",
    "unique_titles_df = filtered_df.groupBy(\"id\").agg(\n",
    "    collect_set(\"exp.title\").alias(\"unique_titles\")\n",
    ")\n",
    "\n",
    "# Step 4: Count the number of unique titles\n",
    "counted_df = unique_titles_df.withColumn(\n",
    "    \"count_different_titles\",\n",
    "    size(col(\"unique_titles\"))\n",
    ")\n",
    "\n",
    "# Show the updated DataFrame with the counts\n",
    "counted_df.display()"
   ]
  },
  {
   "cell_type": "markdown",
   "metadata": {
    "application/vnd.databricks.v1+cell": {
     "cellMetadata": {
      "byteLimit": 2048000,
      "rowLimit": 10000
     },
     "inputWidgets": {},
     "nuid": "9a74704e-8b89-4eb5-8637-16b2e06346d3",
     "showTitle": false,
     "tableResultSettingsMap": {},
     "title": ""
    }
   },
   "source": [
    "**Embed courses data**"
   ]
  },
  {
   "cell_type": "code",
   "execution_count": 0,
   "metadata": {
    "application/vnd.databricks.v1+cell": {
     "cellMetadata": {
      "byteLimit": 2048000,
      "rowLimit": 10000
     },
     "inputWidgets": {},
     "nuid": "98a2b5c3-118b-4d69-aef8-fbc273285d43",
     "showTitle": false,
     "tableResultSettingsMap": {},
     "title": ""
    }
   },
   "outputs": [],
   "source": [
    "input_col = \"courses\"\n",
    "concat_col = input_col + \"_concat\"\n",
    "token_col = input_col + \"_tokenized\"\n",
    "de_col = input_col + \"_doc_assembled\"\n",
    "tok_col = input_col + \"_tokenized\"\n",
    "embed_col = input_col + \"_embeddings\"\n",
    "embed_str_col = embed_col + \"_str\"\n",
    "\n",
    "# Concatenate the array of strings into a single string, separated by commas\n",
    "course_transform = course_transform.withColumn(concat_col, concat_ws(\" ; \", input_col))\n",
    "\n",
    "# # Document Assembler\n",
    "documentAssembler = DocumentAssembler() \\\n",
    "     .setInputCol(concat_col) \\\n",
    "     .setOutputCol(de_col)\n",
    "\n",
    "\n",
    "# # Embeddings\n",
    "embeddings = BertSentenceEmbeddings.pretrained(\"sent_small_bert_L2_128\") \\\n",
    "     .setInputCols([de_col]) \\\n",
    "     .setOutputCol(embed_col)\n",
    "\n",
    "\n",
    "# # Create the pipeline\n",
    "pipeline = Pipeline(stages=[documentAssembler, embeddings])\n",
    "\n",
    "# Fit and transform the pipeline\n",
    "course_embeddings_df = pipeline.fit(course_transform).transform(course_transform)\n",
    "\n",
    "# Convert embeddings to string\n",
    "course_embeddings_df = course_embeddings_df.withColumn(embed_str_col, course_embeddings_df[embed_col].cast(\"string\"))"
   ]
  },
  {
   "cell_type": "markdown",
   "metadata": {
    "application/vnd.databricks.v1+cell": {
     "cellMetadata": {
      "byteLimit": 2048000,
      "rowLimit": 10000
     },
     "inputWidgets": {},
     "nuid": "8fcf2eed-a1c1-486a-8ec7-71294638352c",
     "showTitle": false,
     "tableResultSettingsMap": {},
     "title": ""
    }
   },
   "source": [
    "This code joins the education info df and experience info df"
   ]
  },
  {
   "cell_type": "code",
   "execution_count": 0,
   "metadata": {
    "application/vnd.databricks.v1+cell": {
     "cellMetadata": {
      "byteLimit": 2048000,
      "rowLimit": 10000
     },
     "inputWidgets": {},
     "nuid": "3a605991-e0ab-4af4-84b5-18677c97d3e1",
     "showTitle": false,
     "tableResultSettingsMap": {},
     "title": ""
    }
   },
   "outputs": [],
   "source": [
    "fin_deg_df = deg_df.select(\"id\", \"deg_feat\", \"companies\")\n",
    "fin_counted_df = counted_df.select(\"id\", \"count_different_titles\")\n",
    "counts_df = fin_deg_df.join(fin_counted_df, \"id\")"
   ]
  },
  {
   "cell_type": "code",
   "execution_count": 0,
   "metadata": {
    "application/vnd.databricks.v1+cell": {
     "cellMetadata": {
      "byteLimit": 2048000,
      "rowLimit": 10000
     },
     "inputWidgets": {},
     "nuid": "a3378071-17f0-4646-b650-a366aa35b8f9",
     "showTitle": false,
     "tableResultSettingsMap": {},
     "title": ""
    }
   },
   "outputs": [],
   "source": [
    "course_embeddings_df = course_embeddings_df.select(\"id\", \"courses_embeddings\")\n",
    "pre_final_df = course_embeddings_df.join(counts_df, \"id\")"
   ]
  },
  {
   "cell_type": "markdown",
   "metadata": {
    "application/vnd.databricks.v1+cell": {
     "cellMetadata": {
      "byteLimit": 2048000,
      "rowLimit": 10000
     },
     "inputWidgets": {},
     "nuid": "85671885-7c80-4e0c-9c4c-0d60502fcd48",
     "showTitle": false,
     "tableResultSettingsMap": {},
     "title": ""
    }
   },
   "source": [
    "Get only the embedding from the embedding - clear what's unnecessary"
   ]
  },
  {
   "cell_type": "code",
   "execution_count": 0,
   "metadata": {
    "application/vnd.databricks.v1+cell": {
     "cellMetadata": {
      "byteLimit": 2048000,
      "rowLimit": 10000
     },
     "inputWidgets": {},
     "nuid": "bbf4d58c-4906-4386-90a6-ce2da0ba082c",
     "showTitle": false,
     "tableResultSettingsMap": {},
     "title": ""
    }
   },
   "outputs": [],
   "source": [
    "pre_final_df = pre_final_df.withColumn(\"embedding\", explode(col(\"courses_embeddings.embeddings\")))\n",
    "pre_final_df = pre_final_df.withColumn(\"emb_est_courses\", pre_final_df[\"embedding\"].cast(\"string\"))\n",
    "pre_final_df = pre_final_df[[\"id\", \"emb_est_courses\", \"deg_feat\", \"count_different_titles\", \"companies\"]]\n",
    "pre_final_df = pre_final_df.dropDuplicates()"
   ]
  },
  {
   "cell_type": "markdown",
   "metadata": {
    "application/vnd.databricks.v1+cell": {
     "cellMetadata": {
      "byteLimit": 2048000,
      "rowLimit": 10000
     },
     "inputWidgets": {},
     "nuid": "1c38c1c8-7789-4316-9d99-4a1c27f3a080",
     "showTitle": false,
     "tableResultSettingsMap": {},
     "title": ""
    }
   },
   "source": [
    "**Final process:**"
   ]
  },
  {
   "cell_type": "markdown",
   "metadata": {
    "application/vnd.databricks.v1+cell": {
     "cellMetadata": {
      "byteLimit": 2048000,
      "rowLimit": 10000
     },
     "inputWidgets": {},
     "nuid": "94ac9801-5dbb-4d82-8751-0360e7f133a7",
     "showTitle": false,
     "tableResultSettingsMap": {},
     "title": ""
    }
   },
   "source": [
    "\n",
    "This code creates augmented_people_profiles by joining people data in pre_final_df with company data from companies on company names. It selects key columns (renaming id to people_id), removes nulls, and displays the enriched profiles with people and some company details"
   ]
  },
  {
   "cell_type": "code",
   "execution_count": 0,
   "metadata": {
    "application/vnd.databricks.v1+cell": {
     "cellMetadata": {
      "byteLimit": 2048000,
      "rowLimit": 10000
     },
     "inputWidgets": {},
     "nuid": "2358e7fd-7b0e-4a59-be3e-1b9210b5a0e4",
     "showTitle": false,
     "tableResultSettingsMap": {},
     "title": ""
    }
   },
   "outputs": [],
   "source": [
    "comps = companies.select(\"name\", \"id\", \"industries\",\"company_id\", \"organization_type\")\n",
    "\n",
    "augmented_people_profiles = pre_final_df.join(comps, pre_final_df[\"companies\"] == comps[\"name\"], how=\"inner\")\n",
    "\n",
    "augmented_people_profiles = augmented_people_profiles.select( \n",
    "    pre_final_df[\"id\"].alias(\"people_id\"),  \n",
    "    \"emb_est_courses\",\n",
    "    \"deg_feat\", \n",
    "    \"count_different_titles\",\n",
    "    \"companies\",\n",
    "    \"company_id\", \n",
    "    \"industries\", \n",
    "    \"organization_type\"  \n",
    ")\n",
    "augmented_people_profiles = augmented_people_profiles.dropna()\n",
    "augmented_people_profiles.display()"
   ]
  },
  {
   "cell_type": "code",
   "execution_count": 0,
   "metadata": {
    "application/vnd.databricks.v1+cell": {
     "cellMetadata": {
      "byteLimit": 2048000,
      "rowLimit": 10000
     },
     "inputWidgets": {},
     "nuid": "aa7d5007-624b-4cba-9a0c-72e189e23cc2",
     "showTitle": false,
     "tableResultSettingsMap": {},
     "title": ""
    }
   },
   "outputs": [],
   "source": [
    "augmented_people_profiles.count()"
   ]
  },
  {
   "cell_type": "markdown",
   "metadata": {
    "application/vnd.databricks.v1+cell": {
     "cellMetadata": {
      "byteLimit": 2048000,
      "rowLimit": 10000
     },
     "inputWidgets": {},
     "nuid": "3c7f2fff-8fc1-4e4f-90a0-3d3df0c54b88",
     "showTitle": false,
     "tableResultSettingsMap": {},
     "title": ""
    }
   },
   "source": [
    "**Work on companies' industries data:**"
   ]
  },
  {
   "cell_type": "markdown",
   "metadata": {
    "application/vnd.databricks.v1+cell": {
     "cellMetadata": {
      "byteLimit": 2048000,
      "rowLimit": 10000
     },
     "inputWidgets": {},
     "nuid": "e33c3850-a5a7-488e-9b27-26c89191e6bc",
     "showTitle": false,
     "tableResultSettingsMap": {},
     "title": ""
    }
   },
   "source": [
    "**Embed industries data**"
   ]
  },
  {
   "cell_type": "code",
   "execution_count": 0,
   "metadata": {
    "application/vnd.databricks.v1+cell": {
     "cellMetadata": {
      "byteLimit": 2048000,
      "rowLimit": 10000
     },
     "inputWidgets": {},
     "nuid": "f4f21cb1-2408-4494-be4f-b22d7d1d1170",
     "showTitle": false,
     "tableResultSettingsMap": {},
     "title": ""
    }
   },
   "outputs": [],
   "source": [
    "ind = companies[['industries']].distinct()\n",
    "\n",
    "\n",
    "input_col2 = \"industries\"\n",
    "concat_col2 = input_col2 + \"_concat\"\n",
    "de_col2 = input_col2 + \"_doc_assembled\"\n",
    "token_col2 = input_col2 + \"_tokenized\"\n",
    "embed_col2 = input_col2 + \"_embeddings\"\n",
    "embed_str_col2 = embed_col2 + \"_str\"\n",
    "\n",
    "## Document Assembler\n",
    "documentAssembler2 = DocumentAssembler() \\\n",
    "    .setInputCol(input_col2) \\\n",
    "    .setOutputCol(de_col2)\n",
    "\n",
    "# Embeddings\n",
    "embeddings2 = BertSentenceEmbeddings.pretrained(\"sent_small_bert_L2_128\") \\\n",
    "    .setInputCols([de_col2]) \\\n",
    "    .setOutputCol(embed_col2)\n",
    "\n",
    "# Create the pipeline\n",
    "pipeline2 = Pipeline(stages=[documentAssembler2, embeddings2])\n",
    "\n",
    "# Fit and transform the pipeline\n",
    "industry_embeddings_df = pipeline2.fit(ind).transform(ind)\n",
    "\n",
    "# Convert embeddings to string\n",
    "industry_embeddings_df = industry_embeddings_df.withColumn(embed_str_col2, industry_embeddings_df[embed_col2].cast(\"string\"))\n",
    "industry_embeddings_df.printSchema()"
   ]
  },
  {
   "cell_type": "markdown",
   "metadata": {
    "application/vnd.databricks.v1+cell": {
     "cellMetadata": {
      "byteLimit": 2048000,
      "rowLimit": 10000
     },
     "inputWidgets": {},
     "nuid": "689fc3f3-60c7-4b0d-a812-defed97320bb",
     "showTitle": false,
     "tableResultSettingsMap": {},
     "title": ""
    }
   },
   "source": [
    "Get only the embedding from the embedding - clear what's unnecessary"
   ]
  },
  {
   "cell_type": "code",
   "execution_count": 0,
   "metadata": {
    "application/vnd.databricks.v1+cell": {
     "cellMetadata": {
      "byteLimit": 2048000,
      "rowLimit": 10000
     },
     "inputWidgets": {},
     "nuid": "de7a0d8f-b692-4d1f-955a-a6b865566f94",
     "showTitle": false,
     "tableResultSettingsMap": {},
     "title": ""
    }
   },
   "outputs": [],
   "source": [
    "industry_embeddings_df = industry_embeddings_df.select(\"industries\", \"industries_embeddings\")\n",
    "industry_embeddings_df = industry_embeddings_df.withColumn(\"embedding\", explode(col(\"industries_embeddings.embeddings\")))\n",
    "industry_embeddings_df = industry_embeddings_df.withColumn(\"emb_est_industries\", industry_embeddings_df[\"embedding\"].cast(\"string\"))\n",
    "industry_embeddings_df = industry_embeddings_df[[\"industries\", \"emb_est_industries\"]]\n",
    "industry_embeddings_df = industry_embeddings_df.dropDuplicates()\n",
    "industry_embeddings_df = industry_embeddings_df.dropna()\n",
    "industry_embeddings_df.display()"
   ]
  },
  {
   "cell_type": "code",
   "execution_count": 0,
   "metadata": {
    "application/vnd.databricks.v1+cell": {
     "cellMetadata": {
      "byteLimit": 2048000,
      "rowLimit": 10000
     },
     "inputWidgets": {},
     "nuid": "1a22ae35-24f9-40b5-8a89-b2a6912da356",
     "showTitle": false,
     "tableResultSettingsMap": {},
     "title": ""
    }
   },
   "outputs": [],
   "source": [
    "industry_embeddings_df.count()"
   ]
  },
  {
   "cell_type": "markdown",
   "metadata": {
    "application/vnd.databricks.v1+cell": {
     "cellMetadata": {
      "byteLimit": 2048000,
      "rowLimit": 10000
     },
     "inputWidgets": {},
     "nuid": "091de0bd-5b92-465c-ad45-ca0f8268b00d",
     "showTitle": false,
     "tableResultSettingsMap": {},
     "title": ""
    }
   },
   "source": [
    "Note:\n",
    "1) We display the DataFrames to be saved as CSVs by selecting \"Download all rows (up to 5GB compressed).\"\n",
    "2) To optimize file size, we separate downloads into two DataFrames: one for profile data and one for industry embeddings, reducing the load on the profiles DataFrame."
   ]
  },
  {
   "cell_type": "markdown",
   "metadata": {
    "application/vnd.databricks.v1+cell": {
     "cellMetadata": {
      "byteLimit": 2048000,
      "rowLimit": 10000
     },
     "inputWidgets": {},
     "nuid": "c6c8f562-ae64-4a44-92f1-926488cd9a06",
     "showTitle": false,
     "tableResultSettingsMap": {},
     "title": ""
    }
   },
   "source": [
    "Another Note:\n",
    "\n",
    "If you run the industries embeddings code first, some cells may not rerun correctly and could cause errors. We recommend running the profiles augmentation code before the company-industries augmentation to avoid this issue."
   ]
  }
 ],
 "metadata": {
  "application/vnd.databricks.v1+notebook": {
   "dashboards": [],
   "environmentMetadata": null,
   "language": "python",
   "notebookMetadata": {
    "pythonIndentUnit": 4
   },
   "notebookName": "GNN Lab Project",
   "widgets": {}
  },
  "language_info": {
   "name": "python"
  }
 },
 "nbformat": 4,
 "nbformat_minor": 0
}
